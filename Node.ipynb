{
 "cells": [
  {
   "cell_type": "code",
   "id": "initial_id",
   "metadata": {
    "collapsed": true,
    "jupyter": {
     "is_executing": true
    },
    "ExecuteTime": {
     "start_time": "2025-06-07T18:24:30.815497Z"
    }
   },
   "source": [
    "import pandas as pd\n",
    "\n",
    "# Чтение данных\n",
    "logon_df = pd.read_csv(\"data/cert4.2/logon.csv\")\n",
    "device_df = pd.read_csv(\"data/cert4.2/device.csv\")\n",
    "email_df = pd.read_csv(\"data/cert4.2/email.csv\")\n",
    "http_df = pd.read_csv(\"data/cert4.2/http.csv\")\n",
    "psych_df = pd.read_csv(\"data/cert4.2/psychometric.csv\")\n",
    "\n",
    "# Преобразование даты и извлечение часа\n",
    "for df in [logon_df, device_df, email_df, http_df]:\n",
    "    df['date'] = pd.to_datetime(df['date'], errors='coerce')\n",
    "    df['hour'] = df['date'].dt.hour\n",
    "\n",
    "# Агрегация поведенческих признаков\n",
    "logon_agg = logon_df.groupby('user').agg(\n",
    "    login_count=('activity', 'count'),\n",
    "    after_hours_logins=('hour', lambda x: ((x < 7) | (x > 18)).sum()),\n",
    "    avg_logon_hour=('hour', 'mean')\n",
    ")\n",
    "\n",
    "device_agg = device_df.groupby('user').agg(\n",
    "    usb_use_count=('activity', 'count'),\n",
    "    usb_after_hours=('hour', lambda x: ((x < 7) | (x > 18)).sum())\n",
    ")\n",
    "\n",
    "http_agg = http_df.groupby('user').agg(\n",
    "    http_visit_count=('url', 'count'),\n",
    "    unique_sites=('url', pd.Series.nunique)\n",
    ")\n",
    "\n",
    "email_agg = email_df.groupby('user').agg(\n",
    "    email_sent_count=('id', 'count'),\n",
    "    avg_email_size=('size', 'mean'),\n",
    "    avg_attachment_count=('attachments', 'mean')\n",
    ")\n",
    "\n",
    "# Объединение всех фичей\n",
    "users_df = logon_agg.join(device_agg, how='outer') \\\n",
    "                    .join(http_agg, how='outer') \\\n",
    "                    .join(email_agg, how='outer') \\\n",
    "                    .reset_index()\n",
    "\n",
    "# Объединение с психометрическими признаками\n",
    "psych_df = psych_df.rename(columns={'user_id': 'user'})\n",
    "users_df = users_df.merge(psych_df, on='user', how='left')\n",
    "\n",
    "# Обработка пропущенных значений\n",
    "users_df.fillna(0, inplace=True)\n",
    "\n",
    "# Сохранение\n",
    "users_df['id'] = users_df['user']\n",
    "users_df.set_index('id', inplace=True)\n",
    "users_df.to_csv(\"data/cert4.2/out/nodes.csv\")\n"
   ],
   "outputs": [],
   "execution_count": null
  },
  {
   "metadata": {
    "ExecuteTime": {
     "end_time": "2025-06-06T21:38:51.939663Z",
     "start_time": "2025-06-06T21:38:51.686040Z"
    }
   },
   "cell_type": "code",
   "source": [
    "# Email-ресурсы\n",
    "resource_email = email_df[['to']].dropna().copy()\n",
    "resource_email['resource'] = resource_email['to'].str.split(';')\n",
    "resource_email = resource_email.explode('resource').drop(columns=['to'])\n",
    "resource_email['resource_type'] = 'email'\n",
    "\n",
    "# HTTP-ресурсы\n",
    "resource_http = http_df[['url']].dropna().copy()\n",
    "resource_http = resource_http.rename(columns={'url': 'resource'})\n",
    "resource_http['resource_type'] = 'url'\n",
    "\n",
    "# PC и USB устройства\n",
    "resource_pc = logon_df[['pc']].dropna().copy().rename(columns={'pc': 'resource'})\n",
    "resource_pc['resource_type'] = 'pc'\n",
    "\n",
    "resource_usb = device_df[['pc']].dropna().copy().rename(columns={'pc': 'resource'})\n",
    "resource_usb['resource_type'] = 'usb'\n",
    "\n",
    "# Объединение всех ресурсов\n",
    "resources_df = pd.concat([resource_email, resource_http, resource_pc, resource_usb], ignore_index=True)\n",
    "resources_df.drop_duplicates(inplace=True)\n",
    "resources_df['resource_id'] = ['R' + str(i) for i in range(len(resources_df))]\n",
    "\n",
    "# Сохранение\n",
    "resources_df.to_csv(\"data/cert4.2/out/resources.csv\", index=False)"
   ],
   "id": "77bdfcfa7f7a59a7",
   "outputs": [],
   "execution_count": 15
  },
  {
   "metadata": {
    "ExecuteTime": {
     "end_time": "2025-06-06T21:38:52.695913Z",
     "start_time": "2025-06-06T21:38:51.946247Z"
    }
   },
   "cell_type": "code",
   "source": [
    "# Связи email (user → to)\n",
    "email_edges = email_df[['user', 'to']].dropna().copy()\n",
    "email_edges['target'] = email_edges['to'].str.split(';')\n",
    "email_edges = email_edges.explode('target').drop(columns=['to'])\n",
    "email_edges['edge_type'] = 'email'\n",
    "\n",
    "# Связи http (user → url)\n",
    "http_edges = http_df[['user', 'url']].dropna().copy()\n",
    "http_edges = http_edges.rename(columns={'url': 'target'})\n",
    "http_edges['edge_type'] = 'http'\n",
    "\n",
    "# Связи pc и usb (user → pc)\n",
    "logon_edges = logon_df[['user', 'pc']].dropna().copy().rename(columns={'pc': 'target'})\n",
    "logon_edges['edge_type'] = 'pc'\n",
    "\n",
    "device_edges = device_df[['user', 'pc']].dropna().copy().rename(columns={'pc': 'target'})\n",
    "device_edges['edge_type'] = 'usb'\n",
    "\n",
    "# Объединение всех связей\n",
    "edges_df = pd.concat([email_edges, http_edges, logon_edges, device_edges], ignore_index=True)\n",
    "\n",
    "# Присоединение resource_id\n",
    "resources_df = pd.read_csv(\"data/cert4.2/out/resources.csv\")\n",
    "edges_df = edges_df.merge(resources_df, left_on='target', right_on='resource', how='inner')\n",
    "\n",
    "# Финальный формат\n",
    "edges_df_final = edges_df[['user', 'resource_id', 'edge_type']]\n",
    "edges_df_final = edges_df_final.rename(columns={'user': 'source_user', 'resource_id': 'target_resource'})\n",
    "\n",
    "# Сохранение\n",
    "edges_df_final.to_csv(\"data/cert4.2/out/edges.csv\", index=False)\n"
   ],
   "id": "577f5f87f16b75dd",
   "outputs": [],
   "execution_count": 16
  }
 ],
 "metadata": {
  "kernelspec": {
   "display_name": "Python 3",
   "language": "python",
   "name": "python3"
  },
  "language_info": {
   "codemirror_mode": {
    "name": "ipython",
    "version": 2
   },
   "file_extension": ".py",
   "mimetype": "text/x-python",
   "name": "python",
   "nbconvert_exporter": "python",
   "pygments_lexer": "ipython2",
   "version": "2.7.6"
  }
 },
 "nbformat": 4,
 "nbformat_minor": 5
}

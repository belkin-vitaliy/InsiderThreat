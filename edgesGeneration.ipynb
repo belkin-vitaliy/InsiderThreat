{
 "cells": [
  {
   "cell_type": "code",
   "execution_count": null,
   "id": "initial_id",
   "metadata": {
    "collapsed": true
   },
   "outputs": [],
   "source": [
    "import random\n",
    "import datetime\n",
    "import csv\n",
    "# Количество ресурсов\n",
    "NUM_RESOURCES = 200\n",
    "\n",
    "# Количество событий\n",
    "NUM_EVENTS = 10000\n",
    "\n",
    "def generate_random_events():\n",
    "    event_types = [\"access\", \"modification\", \"deletion\"]  # разные виды взаимодействий\n",
    "    timestamps = [(datetime.datetime.now() - datetime.timedelta(days=random.randint(0, 365))).isoformat() for _ in range(NUM_EVENTS)]\n",
    "    weights = [random.uniform(0.1, 1) for _ in range(NUM_EVENTS)]  # веса связей\n",
    "    source_users = random.choices(users[\"user_id\"], k=NUM_EVENTS)  # выбираем случайных пользователей\n",
    "    target_resources = random.choices(list(range(NUM_RESOURCES)), k=NUM_EVENTS)  # целевые ресурсы\n",
    "    event_types_list = random.choices(event_types, k=NUM_EVENTS)  # типы событий\n",
    "\n",
    "    return {\n",
    "        \"event_id\": list(range(NUM_EVENTS)),\n",
    "        \"source_user\": source_users,\n",
    "        \"target_resource\": target_resources,\n",
    "        \"event_type\": event_types_list,\n",
    "        \"timestamp\": timestamps,\n",
    "        \"weight\": weights\n",
    "    }\n",
    "\n",
    "events = generate_random_events()\n",
    "\n",
    "# Сохраняем данные в файл edges.csv\n",
    "fields = [\"event_id\", \"source_user\", \"target_resource\", \"event_type\", \"timestamp\", \"weight\"]\n",
    "\n",
    "with open('data/edges1.csv', 'w', newline='') as file:\n",
    "    writer = csv.writer(file)\n",
    "    writer.writerow(fields)\n",
    "    rows = zip(events[\"event_id\"], events[\"source_user\"], events[\"target_resource\"],\n",
    "               events[\"event_type\"], events[\"timestamp\"], events[\"weight\"])\n",
    "    writer.writerows(rows)"
   ]
  }
 ],
 "metadata": {
  "kernelspec": {
   "display_name": "Python 3",
   "language": "python",
   "name": "python3"
  },
  "language_info": {
   "codemirror_mode": {
    "name": "ipython",
    "version": 2
   },
   "file_extension": ".py",
   "mimetype": "text/x-python",
   "name": "python",
   "nbconvert_exporter": "python",
   "pygments_lexer": "ipython2",
   "version": "2.7.6"
  }
 },
 "nbformat": 4,
 "nbformat_minor": 5
}

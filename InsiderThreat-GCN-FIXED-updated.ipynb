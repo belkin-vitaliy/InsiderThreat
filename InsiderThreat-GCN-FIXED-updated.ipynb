{
 "cells": [
  {
   "cell_type": "markdown",
   "id": "7e2fb3268adfff5e",
   "metadata": {},
   "source": [
    "# **GCN+LSTM модель для анализа поведения пользователей**"
   ]
  },
  {
   "cell_type": "markdown",
   "id": "f8ba2cbf2d6ef441",
   "metadata": {},
   "source": [
    "### Загрузка данных:\n",
    "* Загружаются данные из CSV-файлов, включая информацию об узлах, рёбрах и ресурсах.\n",
    "* Для узлов (пользователей) извлекаются такие признаки, как роль пользователя, количество логинов, уровень доступа и время с последнего входа.\n",
    "* Для ресурсов вычисляются дополнительные признаки, такие как тип ресурса и уровень доступа."
   ]
  },
  {
   "cell_type": "code",
   "id": "ae3fdcd7cd1ec5b1",
   "metadata": {
    "ExecuteTime": {
     "end_time": "2025-05-31T18:36:16.469498Z",
     "start_time": "2025-05-31T18:36:16.460423Z"
    }
   },
   "source": [
    "import pandas as pd\n",
    "\n",
    "# Пути к файлам\n",
    "nodes_path = \"data/nodes.csv\"\n",
    "resources_path = \"data/resources.csv\"\n",
    "edges_path = \"data/edges.csv\"\n",
    "\n",
    "# Загрузка данных\n",
    "nodes_df = pd.read_csv(nodes_path)\n",
    "resources_df = pd.read_csv(resources_path)\n",
    "edges_df = pd.read_csv(edges_path, parse_dates=[\"timestamp\"])\n",
    "\n",
    "# Убедимся, что timestamp — это datetime\n",
    "edges_df['timestamp'] = pd.to_datetime(edges_df['timestamp'], errors='coerce')\n"
   ],
   "outputs": [],
   "execution_count": 134
  },
  {
   "cell_type": "code",
   "id": "8fb4f83f6dcb5019",
   "metadata": {
    "ExecuteTime": {
     "end_time": "2025-05-31T18:36:16.570677Z",
     "start_time": "2025-05-31T18:36:16.559560Z"
    }
   },
   "source": [
    "import numpy as np\n",
    "\n",
    "# Параметры\n",
    "\n",
    "start_hour = 9\n",
    "end_hour = 18\n",
    "\n",
    "offset = len(nodes_df)\n",
    "\n",
    "# Определение нерабочего времени\n",
    "edges_df['timestamp'] = pd.to_datetime(edges_df['timestamp'], errors='coerce')\n",
    "edges_df['is_after_hours'] = (\n",
    "    (edges_df['timestamp'].dt.hour < start_hour) |\n",
    "    (edges_df['timestamp'].dt.hour >= end_hour) |\n",
    "    (edges_df['timestamp'].dt.weekday >= 5)\n",
    ")\n",
    "after_hours_edges = set([\n",
    "    (row['source_user'], row['target_resource'] + offset)\n",
    "    for _, row in edges_df[edges_df['is_after_hours']].iterrows()\n",
    "])\n",
    "\n",
    "# Преобразование timestamp в Unix-время\n",
    "edges_df['timestamp_unix'] = edges_df['timestamp'].astype('int64') // 10**9  # В секундах\n"
   ],
   "outputs": [],
   "execution_count": 135
  },
  {
   "cell_type": "code",
   "id": "593bb98e98ad39e6",
   "metadata": {
    "ExecuteTime": {
     "end_time": "2025-05-31T18:36:16.665765Z",
     "start_time": "2025-05-31T18:36:16.658099Z"
    }
   },
   "source": [
    "from sklearn.preprocessing import LabelEncoder\n",
    "import torch\n",
    "\n",
    "#IN_CHANNELS_MODEL = ['role_encoded', 'login_count', 'access_level', 'session_time', 'days_since_login']\n",
    "IN_CHANNELS_MODEL = ['role_encoded', 'access_level']\n",
    "#ADD_FEATURES = ['resource_type_encoded', 'importance', 'access_level']\n",
    "ADD_FEATURES = ['resource_type_encoded', 'importance']\n",
    "\n",
    "# Кодирование признаков узлов\n",
    "role_encoder = LabelEncoder()\n",
    "nodes_df['role_encoded'] = role_encoder.fit_transform(nodes_df['role'])\n",
    "# Признаки Время последнего входа → дни\n",
    "nodes_df['last_login_time'] = pd.to_datetime(nodes_df['last_login_time'])\n",
    "ref_date = pd.Timestamp(\"2025-05-18\")\n",
    "nodes_df['days_since_login'] = (ref_date - nodes_df['last_login_time']).dt.days\n",
    "# Признаки пользователей\n",
    "user_features = nodes_df[IN_CHANNELS_MODEL].values"
   ],
   "outputs": [],
   "execution_count": 136
  },
  {
   "cell_type": "code",
   "id": "5629401bb920142d",
   "metadata": {
    "ExecuteTime": {
     "end_time": "2025-05-31T18:36:16.770862Z",
     "start_time": "2025-05-31T18:36:16.765566Z"
    }
   },
   "source": [
    "# Кодирование признаков узлов (ресурсы)\n",
    "resource_encoder = LabelEncoder()\n",
    "# Обработка ресурсов\n",
    "resources_df['resource_type_encoded'] = resource_encoder.fit_transform(resources_df['resource_type'])\n",
    "# Реальные признаки ресурсов\n",
    "base_resource_features = resources_df[ADD_FEATURES].values\n",
    "# Дополняем признаки ресурсов двумя нулями (чтобы было 6 признаков, как у пользователей)\n",
    "#resource_features_padded = np.hstack([base_resource_features, np.zeros((base_resource_features.shape[0], 3))])\n",
    "resource_features_padded = np.hstack([base_resource_features, np.zeros((base_resource_features.shape[0], user_features.shape[1]-base_resource_features.shape[1]))])\n",
    "# Объединяем признаки пользователей и ресурсов\n",
    "x_combined = np.vstack([user_features, resource_features_padded])"
   ],
   "outputs": [],
   "execution_count": 137
  },
  {
   "cell_type": "code",
   "id": "29b38d105ba28512",
   "metadata": {
    "ExecuteTime": {
     "end_time": "2025-05-31T18:36:16.856711Z",
     "start_time": "2025-05-31T18:36:16.853949Z"
    }
   },
   "source": [
    "base_resource_features"
   ],
   "outputs": [
    {
     "data": {
      "text/plain": [
       "array([[1, 1],\n",
       "       [1, 2],\n",
       "       [4, 3],\n",
       "       [0, 4],\n",
       "       [2, 1],\n",
       "       [1, 2],\n",
       "       [1, 4],\n",
       "       [4, 3],\n",
       "       [4, 3],\n",
       "       [1, 4],\n",
       "       [3, 3],\n",
       "       [5, 3]])"
      ]
     },
     "execution_count": 138,
     "metadata": {},
     "output_type": "execute_result"
    }
   ],
   "execution_count": 138
  },
  {
   "cell_type": "code",
   "id": "8f475efde9683a38",
   "metadata": {
    "ExecuteTime": {
     "end_time": "2025-05-31T18:36:16.970545Z",
     "start_time": "2025-05-31T18:36:16.968270Z"
    }
   },
   "source": [
    "resource_features_padded"
   ],
   "outputs": [
    {
     "data": {
      "text/plain": [
       "array([[1., 1.],\n",
       "       [1., 2.],\n",
       "       [4., 3.],\n",
       "       [0., 4.],\n",
       "       [2., 1.],\n",
       "       [1., 2.],\n",
       "       [1., 4.],\n",
       "       [4., 3.],\n",
       "       [4., 3.],\n",
       "       [1., 4.],\n",
       "       [3., 3.],\n",
       "       [5., 3.]])"
      ]
     },
     "execution_count": 139,
     "metadata": {},
     "output_type": "execute_result"
    }
   ],
   "execution_count": 139
  },
  {
   "cell_type": "code",
   "id": "c8df744f2a100f69",
   "metadata": {
    "ExecuteTime": {
     "end_time": "2025-05-31T18:36:17.077139Z",
     "start_time": "2025-05-31T18:36:17.075256Z"
    }
   },
   "source": [
    "# Cоздается тензор (многомерный массив) из данных x_combined\n",
    "# Этот тензор x будет использоваться как входные данные для GCN (Graph Convolutional Network) части модели\n",
    "x = torch.tensor(x_combined, dtype=torch.float)"
   ],
   "outputs": [],
   "execution_count": 140
  },
  {
   "cell_type": "code",
   "id": "7051dcd37c3496a9",
   "metadata": {
    "ExecuteTime": {
     "end_time": "2025-05-31T18:36:17.160760Z",
     "start_time": "2025-05-31T18:36:17.157592Z"
    }
   },
   "source": [
    "# Переменная offset будет использоваться для корректной индексации узлов-ресурсов\n",
    "#offset = len(user_features)\n",
    "# Извлекаем столбец source_user из DataFrame edges_df (источники рёбер - пользователи), преобразуем значения в целые числа и получает NumPy массив\n",
    "sources = edges_df['source_user'].astype(int).values\n",
    "# Извлекаем столбец target_resource (цели рёбер - ресурсы), преобразуем в целые числа и получает NumPy массив\n",
    "targets = edges_df['target_resource'].astype(int).values + offset\n",
    "# Объединяем в edge_index [2, num_edges]\n",
    "edge_index_np = np.vstack([sources, targets])\n",
    "edge_index = torch.tensor(edge_index_np, dtype=torch.long)"
   ],
   "outputs": [],
   "execution_count": 141
  },
  {
   "cell_type": "code",
   "id": "ae7a68fff67e334d",
   "metadata": {
    "ExecuteTime": {
     "end_time": "2025-05-31T18:36:17.214885Z",
     "start_time": "2025-05-31T18:36:17.212858Z"
    }
   },
   "source": [
    "y = torch.tensor(nodes_df['role_encoded'].values, dtype=torch.long)"
   ],
   "outputs": [],
   "execution_count": 142
  },
  {
   "cell_type": "code",
   "id": "96e994a5838fcea5",
   "metadata": {
    "ExecuteTime": {
     "end_time": "2025-05-31T18:36:17.261819Z",
     "start_time": "2025-05-31T18:36:17.260018Z"
    }
   },
   "source": [
    "from torch_geometric.data import Data\n",
    "\n",
    "data = Data(x=x, edge_index=edge_index, y=y)"
   ],
   "outputs": [],
   "execution_count": 143
  },
  {
   "cell_type": "code",
   "id": "d7ca5ffc7764717b",
   "metadata": {
    "ExecuteTime": {
     "end_time": "2025-05-31T18:36:17.332414Z",
     "start_time": "2025-05-31T18:36:17.330276Z"
    }
   },
   "source": [
    "num_users = y.shape[0]\n",
    "# Обучающая маска — используем только узлы-пользователи.\n",
    "# Только пользователи имеют известные метки (y).\n",
    "# Ресурсы — это объекты взаимодействия, и они участвуют в обучении опосредованно через связи (рёбра), но не обучаются напрямую как целевые точки.\n",
    "data.train_mask = torch.zeros(data.num_nodes, dtype=torch.bool)\n",
    "data.train_mask[:num_users] = True"
   ],
   "outputs": [],
   "execution_count": 144
  },
  {
   "cell_type": "code",
   "id": "9977c99bcae15ae4",
   "metadata": {
    "ExecuteTime": {
     "end_time": "2025-05-31T18:36:17.398610Z",
     "start_time": "2025-05-31T18:36:17.396189Z"
    }
   },
   "source": [
    "# Добавим фиктивные метки для ресурсов\n",
    "num_resources = resource_features_padded.shape[0]\n",
    "y_full = np.concatenate([y, -1 * np.ones(num_resources)])  # -1 — метка для нерелевантных узлов\n",
    "\n",
    "# Сконвертируем\n",
    "data.y = torch.tensor(y_full, dtype=torch.long)"
   ],
   "outputs": [],
   "execution_count": 145
  },
  {
   "cell_type": "markdown",
   "id": "f55f17597f003886",
   "metadata": {},
   "source": [
    "## Загрузка и подготовка тестовых данных GCN"
   ]
  },
  {
   "cell_type": "code",
   "id": "96d9934f1da9e0b2",
   "metadata": {
    "ExecuteTime": {
     "end_time": "2025-05-31T18:36:17.475275Z",
     "start_time": "2025-05-31T18:36:17.465118Z"
    }
   },
   "source": [
    "# === Загрузка тестовых данных ===\n",
    "nodes_test = pd.read_csv(\"data/nodes_test.csv\")\n",
    "edges_test = pd.read_csv(\"data/edges_test.csv\")\n",
    "resources_test = pd.read_csv(\"data/resources_test.csv\")\n",
    "\n",
    "edges_test['timestamp'] = pd.to_datetime(edges_test['timestamp'], errors='coerce')\n",
    "# Кодирование признаков узлов\n",
    "nodes_test['role_encoded'] = role_encoder.transform(nodes_test['role'])\n",
    "# Признаки Время последнего входа → дни\n",
    "nodes_test['last_login_time'] = pd.to_datetime(nodes_test['last_login_time'])\n",
    "nodes_test['days_since_login'] = (ref_date - nodes_test['last_login_time']).dt.days\n",
    "# Признаки пользователей\n",
    "x_test_users = nodes_test[IN_CHANNELS_MODEL].to_numpy()\n",
    "# Обработка ресурсов ---\n",
    "resources_test['resource_type_encoded'] = resource_encoder.transform(resources_test['resource_type'])\n",
    "# Реальные признаки ресурсов\n",
    "x_test_resources = resources_test[ADD_FEATURES].to_numpy()\n",
    "# Дополняем признаки ресурсов двумя нулями (чтобы было 6 признаков, как у пользователей)\n",
    "x_test_resources_padded = np.hstack([x_test_resources, np.zeros((x_test_resources.shape[0], x_test_users.shape[1] - x_test_resources.shape[1]))])\n",
    "\n",
    "#num_users_test = x_test_users.shape[0]\n",
    "#num_resources_test = x_test_resources.shape[0]\n",
    "#x_test_resources_padded = np.zeros((num_resources_test, x_test_users.shape[1]))\n",
    "\n",
    "# Объединяем признаки пользователей и ресурсов\n",
    "x_test_combined = np.vstack([x_test_users, x_test_resources_padded])\n",
    "num_test_users = x_test_users.shape[0]\n",
    "sources_test = edges_test['source_user'].astype(int).values\n",
    "offset = len(nodes_test)\n",
    "targets_test = edges_test['target_resource'].astype(int).values + offset\n",
    "edge_index_test_np = np.vstack([sources_test, targets_test])\n",
    "edge_index_test = torch.tensor(edge_index_test_np, dtype=torch.long)\n",
    "\n",
    "test_data = Data(x=torch.tensor(x_test_combined, dtype=torch.float), edge_index=edge_index_test)\n",
    "\n",
    "# Метки и размерность\n",
    "y_test = torch.tensor(nodes_test['role_encoded'].values, dtype=torch.long)\n",
    "num_test_users = len(y_test)  # Автоматически устанавливаем правильное значение"
   ],
   "outputs": [],
   "execution_count": 146
  },
  {
   "cell_type": "markdown",
   "id": "872ab4b50607ea6a",
   "metadata": {},
   "source": [
    "## Подготовка данных для модели LSTM"
   ]
  },
  {
   "cell_type": "code",
   "id": "5db7e0e1a6c82f01",
   "metadata": {
    "ExecuteTime": {
     "end_time": "2025-05-31T18:36:17.536070Z",
     "start_time": "2025-05-31T18:36:17.532317Z"
    }
   },
   "source": [
    "from sklearn.preprocessing import StandardScaler\n",
    "\n",
    "scaler = StandardScaler()\n",
    "unique_resources = sorted(set(edges_df['target_resource']))\n",
    "resource_map = {rid: idx for idx, rid in enumerate(unique_resources)}\n",
    "resource_features = scaler.fit_transform(resources_df[['importance']])"
   ],
   "outputs": [],
   "execution_count": 147
  },
  {
   "cell_type": "code",
   "id": "58fde6c6164b9863",
   "metadata": {
    "ExecuteTime": {
     "end_time": "2025-05-31T18:36:17.728952Z",
     "start_time": "2025-05-31T18:36:17.631403Z"
    }
   },
   "source": [
    "# LSTM часть: последовательности действий\n",
    "LSTM_FEATURES = ['hour', 'dayofweek', 'event_type_id']\n",
    "\n",
    "\n",
    "def normalization_data(edges_df):\n",
    "\n",
    "    edges_df = edges_df.dropna(subset=['event_type'])\n",
    "    edges_df['event_type_id'] = LabelEncoder().fit_transform(edges_df['event_type'])\n",
    "    edges_df['hour'] = edges_df['timestamp'].dt.hour\n",
    "    edges_df['dayofweek'] = edges_df['timestamp'].dt.dayofweek\n",
    "    edges_df['hour'] = edges_df['hour'].fillna(edges_df['hour'].mean())\n",
    "    edges_df['dayofweek'] = edges_df['dayofweek'].fillna(edges_df['dayofweek'].mean())\n",
    "    return edges_df\n",
    "\n",
    "def get_lstm_input_tensor(edges_df):\n",
    "    sequences = []\n",
    "    user_ids = sorted(edges_df['source_user'].unique())\n",
    "    for user_id in user_ids:\n",
    "        user_seq = edges_df[edges_df['source_user'] == user_id].sort_values('timestamp')[LSTM_FEATURES].values\n",
    "        sequences.append(user_seq)\n",
    "    max_len = max(len(seq) for seq in sequences)\n",
    "    num_features = len(LSTM_FEATURES)\n",
    "    padded = np.zeros((len(sequences), max_len, num_features))\n",
    "    for i, seq in enumerate(sequences):\n",
    "        padded[i, :len(seq), :] = seq\n",
    "    return torch.tensor(padded, dtype=torch.float), num_features\n",
    "\n",
    "edges_df = normalization_data(edges_df)\n",
    "lstm_input_tensor, num_features = get_lstm_input_tensor(edges_df)\n",
    "\n",
    "#===========================================================\n",
    "edges_test = normalization_data(edges_test)\n",
    "lstm_input_tensor_test, num_features_test = get_lstm_input_tensor(edges_test)\n",
    "\n",
    "#=============================================================\n",
    "edge_attr = []\n",
    "for idx, row in edges_df.iterrows():\n",
    "    res_idx = resource_map.get(row['target_resource'], None)\n",
    "    if res_idx is not None:\n",
    "        feature_value = float(resource_features[res_idx])\n",
    "        original_attrs = [row['hour'], row['dayofweek'], row['event_type_id']]\n",
    "        new_attrs = original_attrs + [feature_value]\n",
    "        edge_attr.append(new_attrs)\n",
    "\n",
    "# Приводим к нужному формату\n",
    "edge_attr_tensor = torch.tensor(edge_attr, dtype=torch.float)\n",
    "\n"
   ],
   "outputs": [
    {
     "name": "stderr",
     "output_type": "stream",
     "text": [
      "/tmp/ipykernel_1177285/446452995.py:40: DeprecationWarning: Conversion of an array with ndim > 0 to a scalar is deprecated, and will error in future. Ensure you extract a single element from your array before performing this operation. (Deprecated NumPy 1.25.)\n",
      "  feature_value = float(resource_features[res_idx])\n"
     ]
    }
   ],
   "execution_count": 148
  },
  {
   "cell_type": "markdown",
   "id": "85a14c0e4325190c",
   "metadata": {},
   "source": [
    "## Модель GCN"
   ]
  },
  {
   "cell_type": "code",
   "id": "17e1998519aefa79",
   "metadata": {
    "ExecuteTime": {
     "end_time": "2025-05-31T18:36:17.790390Z",
     "start_time": "2025-05-31T18:36:17.785427Z"
    }
   },
   "source": [
    "import torch.nn.functional as F\n",
    "from torch_geometric.nn import GCNConv\n",
    "\n",
    "# --- Модель GCN ---\n",
    "class GCN(torch.nn.Module):\n",
    "    def __init__(self, in_channels, hidden_channels, out_channels):\n",
    "        super().__init__()\n",
    "        self.conv1 = GCNConv(in_channels, hidden_channels)\n",
    "        self.conv2 = GCNConv(hidden_channels, out_channels)\n",
    "\n",
    "    def forward(self, data):\n",
    "        x, edge_index = data.x, data.edge_index\n",
    "        x = F.relu(self.conv1(x, edge_index))\n",
    "        return self.conv2(x, edge_index)\n"
   ],
   "outputs": [],
   "execution_count": 149
  },
  {
   "cell_type": "markdown",
   "id": "bd7966b9f8de60bb",
   "metadata": {},
   "source": [
    "## Гибридная модель"
   ]
  },
  {
   "cell_type": "code",
   "id": "25d0f9185d4d25c3",
   "metadata": {
    "ExecuteTime": {
     "end_time": "2025-05-31T18:36:17.888095Z",
     "start_time": "2025-05-31T18:36:17.883004Z"
    }
   },
   "source": [
    "import torch.nn as nn\n",
    "\n",
    "# === Гибридная модель ===\n",
    "class GCN_LSTM_Hybrid(nn.Module):\n",
    "    def __init__(self, gcn_in, gcn_hidden, lstm_in, lstm_hidden, out_dim):\n",
    "        super().__init__()\n",
    "        self.gcn = GCNConv(gcn_in, gcn_hidden)\n",
    "        self.lstm = nn.LSTM(input_size=lstm_in, hidden_size=lstm_hidden, batch_first=True)\n",
    "        self.fc = nn.Linear(gcn_hidden + lstm_hidden, out_dim)\n",
    "\n",
    "    def forward(self, data, sequences):\n",
    "        x_gcn = F.relu(self.gcn(data.x, data.edge_index))\n",
    "\n",
    "        x_users = x_gcn[:sequences.size(0)]\n",
    "        lstm_out, _ = self.lstm(sequences)\n",
    "        lstm_last = lstm_out[:, -1, :]\n",
    "        combined = torch.cat([x_users, lstm_last], dim=1)\n",
    "\n",
    "        return self.fc(combined)"
   ],
   "outputs": [],
   "execution_count": 150
  },
  {
   "cell_type": "markdown",
   "id": "71810d4395b46377",
   "metadata": {},
   "source": [
    "## Обучение"
   ]
  },
  {
   "cell_type": "code",
   "id": "1de689f549609acf",
   "metadata": {
    "ExecuteTime": {
     "end_time": "2025-05-31T18:36:17.986747Z",
     "start_time": "2025-05-31T18:36:17.981337Z"
    }
   },
   "source": [
    "class Trainer:\n",
    "    def __init__(self, model, data, optimizer, criterion):\n",
    "        self.model = model\n",
    "        self.data = data\n",
    "        self.optimizer = optimizer\n",
    "        self.criterion = criterion\n",
    "\n",
    "    def train_gcn(self):\n",
    "        self.model.train()\n",
    "        self.optimizer.zero_grad()\n",
    "        out = self.model(self.data)\n",
    "        loss = self.criterion(out[self.data.train_mask], self.data.y[self.data.train_mask])\n",
    "        loss.backward()\n",
    "        self.optimizer.step()\n",
    "        return loss.item()\n",
    "\n",
    "    def train_gcn_lstm(self,lstm_input_tensor):\n",
    "\n",
    "        self.model.train()\n",
    "        self.optimizer.zero_grad()\n",
    "        out = self.model(self.data, lstm_input_tensor)\n",
    "        loss = self.criterion(out[:num_users], self.data.y[self.data.train_mask])\n",
    "        loss.backward()\n",
    "        self.optimizer.step()\n",
    "        return loss.item()\n"
   ],
   "outputs": [],
   "execution_count": 151
  },
  {
   "cell_type": "markdown",
   "id": "ce250272f9316e32",
   "metadata": {},
   "source": [
    "## Предсказание на новых данных"
   ]
  },
  {
   "cell_type": "code",
   "id": "757ac1f97883d94c",
   "metadata": {
    "ExecuteTime": {
     "end_time": "2025-05-31T18:36:18.091269Z",
     "start_time": "2025-05-31T18:36:18.084011Z"
    }
   },
   "source": [
    "# === Предсказание на новых данных ===\n",
    "class Tester:\n",
    "    def __init__(self, model, test_data, y, num_test_users):\n",
    "        \"\"\"\n",
    "        model: обученная модель (GCN или GCN+LSTM)\n",
    "        test_data: данные в формате PyTorch Geometric Data\n",
    "        y: истинные метки классов (тензор)\n",
    "        num_test_users: количество узлов-пользователей в тестовой выборке\n",
    "        \"\"\"\n",
    "        self.model = model\n",
    "        self.test_data = test_data\n",
    "        self.y = y\n",
    "        self.num_test_users = num_test_users\n",
    "\n",
    "    def test_gcn(self):\n",
    "        self.model.eval()\n",
    "\n",
    "        with torch.no_grad():\n",
    "            out = self.model(self.test_data)\n",
    "\n",
    "            preds = out.argmax(dim=1)\n",
    "            test_preds = preds[:self.num_test_users]\n",
    "            correct = (test_preds == self.y[:self.num_test_users]).sum()\n",
    "            acc = float(correct) / len(test_preds)\n",
    "\n",
    "        return acc\n",
    "\n",
    "    def test_gcn_lstm(self, lstm_input_tensor):\n",
    "        self.model.eval()\n",
    "\n",
    "        with torch.no_grad():\n",
    "            out = self.model(self.test_data, lstm_input_tensor)\n",
    "\n",
    "            preds = out.argmax(dim=1)\n",
    "            test_preds = preds[:self.num_test_users]\n",
    "            correct = (test_preds == self.y[:self.num_test_users]).sum()\n",
    "            acc = float(correct) / len(test_preds)\n",
    "\n",
    "        return acc\n"
   ],
   "outputs": [],
   "execution_count": 152
  },
  {
   "cell_type": "code",
   "id": "435a69811517611c",
   "metadata": {
    "ExecuteTime": {
     "end_time": "2025-05-31T18:36:18.197450Z",
     "start_time": "2025-05-31T18:36:18.193534Z"
    }
   },
   "source": [
    "GCN_HIDDEN_CHANNELS = 16\n",
    "LSTM_HIDDEN_CHANNELS = 32\n",
    "MAX_EPOCHS = 101\n",
    "GCN_IN_CHANNELS = x.shape[1]\n",
    "LSTM_IN_CHANNELS = num_features\n",
    "\n"
   ],
   "outputs": [],
   "execution_count": 153
  },
  {
   "cell_type": "code",
   "id": "471f46ba440b6401",
   "metadata": {
    "ExecuteTime": {
     "end_time": "2025-05-31T18:36:18.299397Z",
     "start_time": "2025-05-31T18:36:18.294652Z"
    }
   },
   "source": [
    "# Инициализация и обучение\n",
    "model = GCN(in_channels=GCN_IN_CHANNELS, hidden_channels=GCN_HIDDEN_CHANNELS, out_channels=len(torch.unique(y)))\n",
    "optimizer = torch.optim.Adam(model.parameters(), lr=0.01)\n",
    "criterion = torch.nn.CrossEntropyLoss()\n",
    "\n",
    "data.edge_attr = edge_attr_tensor\n",
    "\n",
    "trainer = Trainer(model, data, optimizer, criterion)\n",
    "y_test = torch.tensor(nodes_test['role_encoded'].values, dtype=torch.long)\n",
    "num_test_users = len(y_test)\n",
    "tester = Tester(model, test_data, y_test, num_test_users)"
   ],
   "outputs": [],
   "execution_count": 154
  },
  {
   "cell_type": "code",
   "id": "8c52e9b81a8e651e",
   "metadata": {
    "ExecuteTime": {
     "end_time": "2025-05-31T18:36:18.504204Z",
     "start_time": "2025-05-31T18:36:18.336077Z"
    }
   },
   "source": [
    "losses_gcn = []\n",
    "accuracies_gcn = []\n",
    "\n",
    "for epoch in range(1, MAX_EPOCHS):\n",
    "\n",
    "    loss_gcn = trainer.train_gcn()\n",
    "    losses_gcn.append(loss_gcn)\n",
    "\n",
    "    acc_gcn = tester.test_gcn()\n",
    "    accuracies_gcn.append(acc_gcn)\n",
    "\n",
    "    if epoch % 10 == 0 or epoch == 1:\n",
    "        print(f\"Эпоха {epoch:03d}: Потери: {loss_gcn:.4f}, Тестирование (Точность): {acc_gcn:.4f}\")"
   ],
   "outputs": [
    {
     "name": "stdout",
     "output_type": "stream",
     "text": [
      "Эпоха 001: Потери: 1.9921, Тестирование (Точность): 0.2000\n",
      "Эпоха 010: Потери: 1.3130, Тестирование (Точность): 0.6000\n",
      "Эпоха 020: Потери: 1.0538, Тестирование (Точность): 0.7000\n",
      "Эпоха 030: Потери: 0.8235, Тестирование (Точность): 0.7000\n",
      "Эпоха 040: Потери: 0.6713, Тестирование (Точность): 0.8500\n",
      "Эпоха 050: Потери: 0.5575, Тестирование (Точность): 0.8500\n",
      "Эпоха 060: Потери: 0.4746, Тестирование (Точность): 0.8500\n",
      "Эпоха 070: Потери: 0.4082, Тестирование (Точность): 0.8500\n",
      "Эпоха 080: Потери: 0.3563, Тестирование (Точность): 0.8500\n",
      "Эпоха 090: Потери: 0.3156, Тестирование (Точность): 0.8500\n",
      "Эпоха 100: Потери: 0.2826, Тестирование (Точность): 0.9500\n"
     ]
    }
   ],
   "execution_count": 155
  },
  {
   "cell_type": "code",
   "id": "c334dd7768381ec4",
   "metadata": {
    "ExecuteTime": {
     "end_time": "2025-05-31T18:36:18.717902Z",
     "start_time": "2025-05-31T18:36:18.540107Z"
    }
   },
   "source": [
    "#Визуализация обучения\n",
    "import matplotlib.pyplot as plt\n",
    "\n",
    "plt.figure(figsize=(12, 5))\n",
    "\n",
    "plt.subplot(1, 2, 1)\n",
    "plt.plot(losses_gcn, label='Loss')\n",
    "plt.title(\"Потери по эпохам\")\n",
    "plt.xlabel(\"Эпоха\")\n",
    "plt.ylabel(\"Loss\")\n",
    "plt.grid(True)\n",
    "\n",
    "plt.subplot(1, 2, 2)\n",
    "plt.plot(accuracies_gcn, label='Accuracy', color='green')\n",
    "plt.title(\"Точность по эпохам\")\n",
    "plt.xlabel(\"Эпоха\")\n",
    "plt.ylabel(\"Accuracy\")\n",
    "plt.grid(True)\n",
    "\n",
    "plt.tight_layout()\n",
    "plt.show()"
   ],
   "outputs": [
    {
     "data": {
      "text/plain": [
       "<Figure size 1200x500 with 2 Axes>"
      ],
      "image/png": "[encoded data removed]"
     },
     "metadata": {},
     "output_type": "display_data"
    }
   ],
   "execution_count": 156
  },
  {
   "cell_type": "code",
   "id": "89c7283d154f850c",
   "metadata": {
    "ExecuteTime": {
     "end_time": "2025-05-31T18:36:18.752959Z",
     "start_time": "2025-05-31T18:36:18.750498Z"
    }
   },
   "source": [
    "from sklearn.metrics import confusion_matrix, ConfusionMatrixDisplay\n",
    "def evaluate_with_confusion_matrix_gcn(model, data, y_true, num_test_users, class_labels=None):\n",
    "    model.eval()\n",
    "    with torch.no_grad():\n",
    "        out = model(data)\n",
    "        preds = out.argmax(dim=1)\n",
    "        test_preds = preds[:num_test_users].cpu().numpy()\n",
    "        y_test_true = y_true[:num_test_users].cpu().numpy()\n",
    "        cm = confusion_matrix(y_test_true, test_preds)\n",
    "\n",
    "        disp = ConfusionMatrixDisplay(confusion_matrix=cm, display_labels=class_labels)\n",
    "        disp.plot(cmap=plt.cm.Blues, xticks_rotation=45)\n",
    "        plt.title(\"Confusion Matrix of the GCN\")\n",
    "        plt.tight_layout()\n",
    "        plt.show()"
   ],
   "outputs": [],
   "execution_count": 157
  },
  {
   "cell_type": "code",
   "id": "59ac7854f3c2779a",
   "metadata": {
    "ExecuteTime": {
     "end_time": "2025-05-31T18:36:18.943952Z",
     "start_time": "2025-05-31T18:36:18.825962Z"
    }
   },
   "source": [
    "class_labels = list(role_encoder.classes_)\n",
    "evaluate_with_confusion_matrix_gcn(model, data, y_test, num_test_users, class_labels)"
   ],
   "outputs": [
    {
     "data": {
      "text/plain": [
       "<Figure size 640x480 with 2 Axes>"
      ],
      "image/png": "[encoded data removed]"
     },
     "metadata": {},
     "output_type": "display_data"
    }
   ],
   "execution_count": 158
  },
  {
   "cell_type": "code",
   "id": "3e367dc8460de4da",
   "metadata": {
    "ExecuteTime": {
     "end_time": "2025-05-31T18:36:18.977401Z",
     "start_time": "2025-05-31T18:36:18.973597Z"
    }
   },
   "source": [
    "# Инициализация модели\n",
    "model = GCN_LSTM_Hybrid(\n",
    "    gcn_in=GCN_IN_CHANNELS,\n",
    "    gcn_hidden=GCN_HIDDEN_CHANNELS,# login_count, access_level, var_activity\n",
    "    lstm_in=LSTM_IN_CHANNELS,  # weight и timestamp_unix\n",
    "    lstm_hidden=LSTM_HIDDEN_CHANNELS,\n",
    "    out_dim=len(torch.unique(y))\n",
    ")\n",
    "\n",
    "# Обучение\n",
    "optimizer = torch.optim.Adam(model.parameters(), lr=0.01)\n",
    "criterion = nn.CrossEntropyLoss()\n",
    "\n",
    "trainer = Trainer(model, data, optimizer, criterion)\n",
    "\n",
    "y_test = torch.tensor(nodes_test['role_encoded'].values, dtype=torch.long)\n",
    "num_test_users = len(y_test)\n",
    "tester = Tester(model, test_data, y_test, num_test_users)"
   ],
   "outputs": [],
   "execution_count": 159
  },
  {
   "cell_type": "code",
   "id": "f5faa58470867b78",
   "metadata": {
    "ExecuteTime": {
     "end_time": "2025-05-31T18:36:19.046703Z",
     "start_time": "2025-05-31T18:36:19.044190Z"
    }
   },
   "source": [
    "losses_gcn_lstm = []\n",
    "accuracies_gcn_lstm = []\n",
    "for epoch in range(1, MAX_EPOCHS):\n",
    "\n",
    "    loss_gcn_lstm = trainer.train_gcn_lstm(lstm_input_tensor)\n",
    "    losses_gcn_lstm.append(loss_gcn_lstm)\n",
    "\n",
    "    acc_gcn_lstm = tester.test_gcn_lstm(lstm_input_tensor_test)\n",
    "    accuracies_gcn_lstm.append(acc_gcn_lstm)\n",
    "\n",
    "    if epoch % 10 == 0 or epoch == 1:\n",
    "print(f\"f\"Эпоха {epoch:03d}: {Потери: {loss_gcn_lstm:.4f}:.4f}\")"
   ],
   "outputs": [
    {
     "ename": "SyntaxError",
     "evalue": "leading zeros in decimal integer literals are not permitted; use an 0o prefix for octal integers (19096459.py, line 12)",
     "output_type": "error",
     "traceback": [
      "\u001B[0;36m  Cell \u001B[0;32mIn[160], line 12\u001B[0;36m\u001B[0m\n\u001B[0;31m    print(f\"f\"Эпоха {epoch:03d}: {Потери: {loss_gcn_lstm:.4f}:.4f}\")\u001B[0m\n\u001B[0m                                ^\u001B[0m\n\u001B[0;31mSyntaxError\u001B[0m\u001B[0;31m:\u001B[0m leading zeros in decimal integer literals are not permitted; use an 0o prefix for octal integers\n"
     ]
    }
   ],
   "execution_count": 160
  },
  {
   "cell_type": "code",
   "execution_count": 142,
   "id": "b3ac1f1e79701e14",
   "metadata": {
    "ExecuteTime": {
     "end_time": "2025-05-31T18:36:19.091256852Z",
     "start_time": "2025-05-31T18:18:14.111870Z"
    }
   },
   "outputs": [
    {
     "data": {
      "image/png": "[encoded data removed]",
      "text/plain": [
       "<Figure size 1200x500 with 2 Axes>"
      ]
     },
     "metadata": {},
     "output_type": "display_data"
    }
   ],
   "source": [
    "#Визуализация обучения\n",
    "import matplotlib.pyplot as plt\n",
    "\n",
    "plt.figure(figsize=(12, 5))\n",
    "\n",
    "plt.subplot(1, 2, 1)\n",
    "plt.plot(losses_gcn_lstm, label='Loss')\n",
    "plt.title(\"Потери по эпохам\")\n",
    "plt.xlabel(\"Эпоха\")\n",
    "plt.ylabel(\"Loss\")\n",
    "plt.grid(True)\n",
    "\n",
    "plt.subplot(1, 2, 2)\n",
    "plt.plot(accuracies_gcn_lstm, label='Accuracy', color='green')\n",
    "plt.title(\"Точность по эпохам\")\n",
    "plt.xlabel(\"Эпоха\")\n",
    "plt.ylabel(\"Accuracy\")\n",
    "plt.grid(True)\n",
    "\n",
    "plt.tight_layout()\n",
    "plt.show()"
   ]
  },
  {
   "cell_type": "code",
   "execution_count": 143,
   "id": "6c9818882aa51f18",
   "metadata": {
    "ExecuteTime": {
     "end_time": "2025-05-31T18:36:19.092087628Z",
     "start_time": "2025-05-31T18:18:14.325498Z"
    }
   },
   "outputs": [],
   "source": [
    "from sklearn.metrics import f1_score\n",
    "from sklearn.metrics import confusion_matrix, ConfusionMatrixDisplay\n",
    "import matplotlib.pyplot as plt\n",
    "\n",
    "f1_list = []\n",
    "\n",
    "def evaluate_with_confusion_matrix_gcn_lstm(model, data, lstm_input_tensor, y_true, num_test_users, class_labels=None):\n",
    "    model.eval()\n",
    "    with torch.no_grad():\n",
    "        out = model(data, lstm_input_tensor)\n",
    "        preds = out.argmax(dim=1)\n",
    "        test_preds = preds[:num_test_users].cpu().numpy()\n",
    "        y_test_true = y_true[:num_test_users].cpu().numpy()\n",
    "        cm = confusion_matrix(y_test_true, test_preds)\n",
    "        f1 = f1_score(y_test_true, test_preds, average='weighted')\n",
    "        f1_list.append(f1)\n",
    "        disp = ConfusionMatrixDisplay(confusion_matrix=cm, display_labels=class_labels)\n",
    "        disp.plot(cmap=plt.cm.Blues)\n",
    "        plt.title(\"Confusion Matrix of GCN+LSTM\")\n",
    "        plt.show()"
   ]
  },
  {
   "cell_type": "code",
   "execution_count": 144,
   "id": "46b369e33ce58375",
   "metadata": {
    "ExecuteTime": {
     "end_time": "2025-05-31T18:36:19.092783562Z",
     "start_time": "2025-05-31T18:18:14.394988Z"
    }
   },
   "outputs": [
    {
     "data": {
      "image/png": "[encoded data removed]",
      "text/plain": [
       "<Figure size 640x480 with 2 Axes>"
      ]
     },
     "metadata": {},
     "output_type": "display_data"
    }
   ],
   "source": [
    "class_labels = list(role_encoder.classes_)\n",
    "evaluate_with_confusion_matrix_gcn_lstm(model, data, lstm_input_tensor, y, num_test_users, class_labels)"
   ]
  },
  {
   "cell_type": "code",
   "execution_count": 145,
   "id": "3fdab1f59dbb8fa9",
   "metadata": {
    "ExecuteTime": {
     "end_time": "2025-05-31T18:36:19.109201470Z",
     "start_time": "2025-05-31T18:18:14.554570Z"
    }
   },
   "outputs": [
    {
     "data": {
      "text/plain": [
       "[1.0]"
      ]
     },
     "execution_count": 145,
     "metadata": {},
     "output_type": "execute_result"
    }
   ],
   "source": [
    "f1_list"
   ]
  },
  {
   "cell_type": "code",
   "execution_count": null,
   "id": "5a8c351bad80f567",
   "metadata": {
    "ExecuteTime": {
     "end_time": "2025-05-31T18:36:19.109661351Z",
     "start_time": "2025-05-31T18:18:14.637438Z"
    }
   },
   "outputs": [],
   "source": []
  },
  {
   "cell_type": "code",
   "execution_count": 146,
   "id": "1431f8daa952259e",
   "metadata": {
    "ExecuteTime": {
     "end_time": "2025-05-31T18:36:19.109831419Z",
     "start_time": "2025-05-31T18:18:14.720254Z"
    }
   },
   "outputs": [
    {
     "ename": "TypeError",
     "evalue": "GCN_LSTM_Hybrid.forward() missing 1 required positional argument: 'sequences'",
     "output_type": "error",
     "traceback": [
      "\u001B[0;31m---------------------------------------------------------------------------\u001B[0m",
      "\u001B[0;31mTypeError\u001B[0m                                 Traceback (most recent call last)",
      "Cell \u001B[0;32mIn[146], line 16\u001B[0m\n\u001B[1;32m     14\u001B[0m model\u001B[38;5;241m.\u001B[39meval()\n\u001B[1;32m     15\u001B[0m \u001B[38;5;28;01mwith\u001B[39;00m torch\u001B[38;5;241m.\u001B[39mno_grad():\n\u001B[0;32m---> 16\u001B[0m     out \u001B[38;5;241m=\u001B[39m model(data)\n\u001B[1;32m     17\u001B[0m     predictions \u001B[38;5;241m=\u001B[39m out\u001B[38;5;241m.\u001B[39margmax(dim\u001B[38;5;241m=\u001B[39m\u001B[38;5;241m1\u001B[39m)\n\u001B[1;32m     18\u001B[0m     \u001B[38;5;28mprint\u001B[39m(\u001B[38;5;124m\"\u001B[39m\u001B[38;5;124mПрогнозы:\u001B[39m\u001B[38;5;124m\"\u001B[39m, predictions)\n",
      "File \u001B[0;32m~/anaconda3/lib/python3.12/site-packages/torch/nn/modules/module.py:1751\u001B[0m, in \u001B[0;36mModule._wrapped_call_impl\u001B[0;34m(self, *args, **kwargs)\u001B[0m\n\u001B[1;32m   1749\u001B[0m     \u001B[38;5;28;01mreturn\u001B[39;00m \u001B[38;5;28mself\u001B[39m\u001B[38;5;241m.\u001B[39m_compiled_call_impl(\u001B[38;5;241m*\u001B[39margs, \u001B[38;5;241m*\u001B[39m\u001B[38;5;241m*\u001B[39mkwargs)  \u001B[38;5;66;03m# type: ignore[misc]\u001B[39;00m\n\u001B[1;32m   1750\u001B[0m \u001B[38;5;28;01melse\u001B[39;00m:\n\u001B[0;32m-> 1751\u001B[0m     \u001B[38;5;28;01mreturn\u001B[39;00m \u001B[38;5;28mself\u001B[39m\u001B[38;5;241m.\u001B[39m_call_impl(\u001B[38;5;241m*\u001B[39margs, \u001B[38;5;241m*\u001B[39m\u001B[38;5;241m*\u001B[39mkwargs)\n",
      "File \u001B[0;32m~/anaconda3/lib/python3.12/site-packages/torch/nn/modules/module.py:1762\u001B[0m, in \u001B[0;36mModule._call_impl\u001B[0;34m(self, *args, **kwargs)\u001B[0m\n\u001B[1;32m   1757\u001B[0m \u001B[38;5;66;03m# If we don't have any hooks, we want to skip the rest of the logic in\u001B[39;00m\n\u001B[1;32m   1758\u001B[0m \u001B[38;5;66;03m# this function, and just call forward.\u001B[39;00m\n\u001B[1;32m   1759\u001B[0m \u001B[38;5;28;01mif\u001B[39;00m \u001B[38;5;129;01mnot\u001B[39;00m (\u001B[38;5;28mself\u001B[39m\u001B[38;5;241m.\u001B[39m_backward_hooks \u001B[38;5;129;01mor\u001B[39;00m \u001B[38;5;28mself\u001B[39m\u001B[38;5;241m.\u001B[39m_backward_pre_hooks \u001B[38;5;129;01mor\u001B[39;00m \u001B[38;5;28mself\u001B[39m\u001B[38;5;241m.\u001B[39m_forward_hooks \u001B[38;5;129;01mor\u001B[39;00m \u001B[38;5;28mself\u001B[39m\u001B[38;5;241m.\u001B[39m_forward_pre_hooks\n\u001B[1;32m   1760\u001B[0m         \u001B[38;5;129;01mor\u001B[39;00m _global_backward_pre_hooks \u001B[38;5;129;01mor\u001B[39;00m _global_backward_hooks\n\u001B[1;32m   1761\u001B[0m         \u001B[38;5;129;01mor\u001B[39;00m _global_forward_hooks \u001B[38;5;129;01mor\u001B[39;00m _global_forward_pre_hooks):\n\u001B[0;32m-> 1762\u001B[0m     \u001B[38;5;28;01mreturn\u001B[39;00m forward_call(\u001B[38;5;241m*\u001B[39margs, \u001B[38;5;241m*\u001B[39m\u001B[38;5;241m*\u001B[39mkwargs)\n\u001B[1;32m   1764\u001B[0m result \u001B[38;5;241m=\u001B[39m \u001B[38;5;28;01mNone\u001B[39;00m\n\u001B[1;32m   1765\u001B[0m called_always_called_hooks \u001B[38;5;241m=\u001B[39m \u001B[38;5;28mset\u001B[39m()\n",
      "\u001B[0;31mTypeError\u001B[0m: GCN_LSTM_Hybrid.forward() missing 1 required positional argument: 'sequences'"
     ]
    }
   ],
   "source": [
    "import networkx as nx\n",
    "from matplotlib.colors import ListedColormap\n",
    "\n",
    "# Инициализация и обучение\n",
    "#model = GCN(in_channels=GCN_IN_CHANNELS, hidden_channels=GCN_HIDDEN_CHANNELS, out_channels=len(torch.unique(y)))\n",
    "#optimizer = torch.optim.Adam(model.parameters(), lr=0.05)\n",
    "#criterion = torch.nn.CrossEntropyLoss()\n",
    "\n",
    "#trainer = Trainer(model, data, optimizer, criterion)\n",
    "#y_test = torch.tensor(nodes_test['role_encoded'].values, dtype=torch.long)\n",
    "#tester = Tester(model, test_data, y_test, num_test_users)\n",
    "\n",
    "# Проверка предсказаний\n",
    "model.eval()\n",
    "with torch.no_grad():\n",
    "    out = model(data)\n",
    "    predictions = out.argmax(dim=1)\n",
    "    print(\"Прогнозы:\", predictions)\n",
    "\n",
    "def visualize_graph(data, predictions, node_roles):\n",
    "    G = nx.Graph()\n",
    "\n",
    "    # Add nodes with attributes\n",
    "    num_users = len(node_roles)  # Only users have roles\n",
    "    for i in range(num_users):\n",
    "        G.add_node(i,\n",
    "                  role=node_roles[i],\n",
    "                  pred=int(predictions[i]),\n",
    "                  conf=float(torch.exp(out[i]).max()))\n",
    "\n",
    "    # For resource nodes (no predictions)\n",
    "    for i in range(num_users, len(data.x)):\n",
    "        G.add_node(i,\n",
    "                  role='resource',\n",
    "                  pred=-1,  # No prediction for resources\n",
    "                  conf=0.0)\n",
    "\n",
    "    # Add edges with weights\n",
    "    for src, dst in data.edge_index.t().numpy():\n",
    "        G.add_edge(src, dst)\n",
    "\n",
    "    # Node colors\n",
    "    cmap = ListedColormap(['#2ecc71', '#e74c3c'])  # Green=normal, Red=anomaly\n",
    "    node_colors = [G.nodes[n]['pred'] if G.nodes[n]['pred'] != -1 else 0 for n in G.nodes]\n",
    "\n",
    "    # Node sizes based on access level\n",
    "    #node_sizes = [300 + 100*data.x[i][2].item() if i < num_users else 300 for i in G.nodes]\n",
    "    node_sizes = [\n",
    "    300 + 100 * data.x[i][2].item() if i < len(data.x) and len(data.x[i]) > 2 else 300\n",
    "    for i in G.nodes\n",
    "    ]\n",
    "\n",
    "    # Node positions\n",
    "    pos = nx.spring_layout(G, seed=42)\n",
    "\n",
    "    plt.figure(figsize=(12, 8))\n",
    "\n",
    "    # Draw edges\n",
    "    nx.draw_networkx_edges(G, pos, alpha=0.2, width=1)\n",
    "\n",
    "    # Draw nodes\n",
    "    nodes_draw = nx.draw_networkx_nodes(\n",
    "        G, pos,\n",
    "        node_color=node_colors,\n",
    "        cmap=cmap,\n",
    "        node_size=node_sizes,\n",
    "        alpha=0.8\n",
    "    )\n",
    "\n",
    "    # Node labels\n",
    "    labels = {n: f\"{n}\\n({G.nodes[n]['role']})\" for n in G.nodes}\n",
    "    nx.draw_networkx_labels(G, pos, labels, font_size=9)\n",
    "\n",
    "    # Legend\n",
    "    plt.colorbar(nodes_draw, label=\"Аномалия (1) / Норма (0)\")\n",
    "    plt.title(\"Граф взаимодействия пользователей \\n(Размер узла = уровень доступа, Цвет = предсказание)\")\n",
    "    plt.axis('off')\n",
    "    plt.show()\n",
    "\n",
    "# Список ролей пользователей\n",
    "node_roles = nodes_df['role'].tolist()\n",
    "\n",
    "# Вызов функции визуализации\n",
    "visualize_graph(data, predictions, node_roles)"
   ]
  }
 ],
 "metadata": {
  "kernelspec": {
   "display_name": "Python 3",
   "language": "python",
   "name": "python3"
  },
  "language_info": {
   "codemirror_mode": {
    "name": "ipython",
    "version": 2
   },
   "file_extension": ".py",
   "mimetype": "text/x-python",
   "name": "python",
   "nbconvert_exporter": "python",
   "pygments_lexer": "ipython2",
   "version": "2.7.6"
  }
 },
 "nbformat": 4,
 "nbformat_minor": 5
}

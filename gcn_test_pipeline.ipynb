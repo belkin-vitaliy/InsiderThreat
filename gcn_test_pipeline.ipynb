{
 "cells": [
  {
   "cell_type": "markdown",
   "id": "c90cb916",
   "metadata": {},
   "source": [
    "# GCN: Обучение и предсказание на новых данных"
   ]
  },
  {
   "metadata": {
    "ExecuteTime": {
     "end_time": "2025-05-20T18:06:19.840764Z",
     "start_time": "2025-05-20T18:06:17.225991Z"
    }
   },
   "cell_type": "code",
   "source": [
    "import pandas as pd\n",
    "import numpy as np\n",
    "import torch\n",
    "import torch.nn.functional as F\n",
    "from torch_geometric.data import Data\n",
    "from torch_geometric.nn import GCNConv\n",
    "from sklearn.model_selection import train_test_split\n",
    "from sklearn.preprocessing import LabelEncoder\n",
    "\n",
    "# === Загрузка обучающих данных ===\n",
    "nodes_df = pd.read_csv(\"data/nodes4.csv\")\n",
    "edges_df = pd.read_csv(\"data/edges4.csv\")\n",
    "resources_df = pd.read_csv(\"data/resources4.csv\")\n",
    "# Убедимся, что timestamp — это datetime\n",
    "edges_df['timestamp'] = pd.to_datetime(edges_df['timestamp'], errors='coerce')"
   ],
   "id": "e921cce894c3593f",
   "outputs": [],
   "execution_count": 1
  },
  {
   "metadata": {
    "ExecuteTime": {
     "end_time": "2025-05-20T18:06:19.892597Z",
     "start_time": "2025-05-20T18:06:19.890589Z"
    }
   },
   "cell_type": "code",
   "source": [
    "# Кодирование признаков узлов\n",
    "role_encoder = LabelEncoder()\n",
    "resource_encoder = LabelEncoder()"
   ],
   "id": "517012079f4f5a72",
   "outputs": [],
   "execution_count": 2
  },
  {
   "metadata": {
    "ExecuteTime": {
     "end_time": "2025-05-20T18:06:19.944897Z",
     "start_time": "2025-05-20T18:06:19.940237Z"
    }
   },
   "cell_type": "code",
   "source": [
    "# === Подготовка признаков пользователей ===\n",
    "nodes_df['role_encoded'] = role_encoder.fit_transform(nodes_df['role'])\n",
    "nodes_df['last_login_time'] = pd.to_datetime(nodes_df['last_login_time'])\n",
    "ref_date = pd.Timestamp(\"2025-05-18\")\n",
    "nodes_df['days_since_login'] = (ref_date - nodes_df['last_login_time']).dt.days\n"
   ],
   "id": "54263418958fa4a8",
   "outputs": [],
   "execution_count": 3
  },
  {
   "metadata": {
    "ExecuteTime": {
     "end_time": "2025-05-20T18:06:20.000971Z",
     "start_time": "2025-05-20T18:06:19.997562Z"
    }
   },
   "cell_type": "code",
   "source": [
    "# Признаки пользователей\n",
    "x_users = nodes_df[['role_encoded', 'login_count', 'access_level', 'session_time', 'var_activity', 'days_since_login']].to_numpy()\n",
    "y_users = (nodes_df['session_time'] > 0).astype(int).to_numpy()"
   ],
   "id": "126b29dd3bd6f993",
   "outputs": [],
   "execution_count": 4
  },
  {
   "metadata": {
    "ExecuteTime": {
     "end_time": "2025-05-20T18:06:20.067125Z",
     "start_time": "2025-05-20T18:06:20.059447Z"
    }
   },
   "cell_type": "code",
   "source": [
    "# === Подготовка признаков ресурсов ===\n",
    "#resource_encoder = LabelEncoder().fit(resources_df['resource_type'])\n",
    "#resources_df['resource_type_encoded'] = resource_encoder.transform(resources_df['resource_type'])\n",
    "# Обработка ресурсов ---\n",
    "resources_df['resource_type_encoded'] = resource_encoder.fit_transform(resources_df['resource_type'])\n",
    "# Реальные признаки ресурсов\n",
    "x_resources = resources_df[['resource_type_encoded', 'access_count_last_month', 'importance', 'access_level']].to_numpy()\n",
    "x_resources_padded = np.hstack([x_resources, np.zeros((x_resources.shape[0], x_users.shape[1] - x_resources.shape[1]))])\n",
    "\n",
    "x_combined = np.vstack([x_users, x_resources_padded])\n",
    "num_users, num_resources = x_users.shape[0], x_resources.shape[0]\n",
    "\n",
    "x = torch.tensor(x_combined, dtype=torch.float)\n",
    "\n",
    "edges_df['target_resource'] += num_users\n",
    "edge_index = torch.tensor([edges_df['source_user'].values, edges_df['target_resource'].values], dtype=torch.long)\n",
    "\n",
    "y = torch.tensor(nodes_df['role_encoded'].values, dtype=torch.long)\n",
    "y_full = np.concatenate([y, -1 * np.ones(num_resources)])\n",
    "\n",
    "data = Data(x=x, edge_index=edge_index, y=torch.tensor(y_full, dtype=torch.long))"
   ],
   "id": "79c09fd53214292b",
   "outputs": [
    {
     "name": "stderr",
     "output_type": "stream",
     "text": [
      "/tmp/ipykernel_50348/360926285.py:16: UserWarning: Creating a tensor from a list of numpy.ndarrays is extremely slow. Please consider converting the list to a single numpy.ndarray with numpy.array() before converting to a tensor. (Triggered internally at /pytorch/torch/csrc/utils/tensor_new.cpp:254.)\n",
      "  edge_index = torch.tensor([edges_df['source_user'].values, edges_df['target_resource'].values], dtype=torch.long)\n"
     ]
    }
   ],
   "execution_count": 5
  },
  {
   "metadata": {
    "ExecuteTime": {
     "end_time": "2025-05-20T18:06:20.127626Z",
     "start_time": "2025-05-20T18:06:20.122680Z"
    }
   },
   "cell_type": "code",
   "source": "y_full",
   "id": "ee97d1e45fa4d7bc",
   "outputs": [
    {
     "data": {
      "text/plain": [
       "array([ 4.,  0.,  0.,  3.,  4.,  2.,  0.,  4.,  4.,  1.,  4.,  0.,  3.,\n",
       "        1.,  2.,  0.,  0.,  0.,  3.,  1., -1., -1., -1., -1., -1., -1.,\n",
       "       -1., -1., -1., -1., -1., -1.])"
      ]
     },
     "execution_count": 6,
     "metadata": {},
     "output_type": "execute_result"
    }
   ],
   "execution_count": 6
  },
  {
   "metadata": {
    "ExecuteTime": {
     "end_time": "2025-05-20T18:06:20.188657Z",
     "start_time": "2025-05-20T18:06:20.185207Z"
    }
   },
   "cell_type": "code",
   "source": "y",
   "id": "a5a33e45679998dd",
   "outputs": [
    {
     "data": {
      "text/plain": [
       "tensor([4, 0, 0, 3, 4, 2, 0, 4, 4, 1, 4, 0, 3, 1, 2, 0, 0, 0, 3, 1])"
      ]
     },
     "execution_count": 7,
     "metadata": {},
     "output_type": "execute_result"
    }
   ],
   "execution_count": 7
  },
  {
   "metadata": {
    "ExecuteTime": {
     "end_time": "2025-05-20T18:06:20.256503Z",
     "start_time": "2025-05-20T18:06:20.252802Z"
    }
   },
   "cell_type": "code",
   "source": "x",
   "id": "b430b79435e8f0",
   "outputs": [
    {
     "data": {
      "text/plain": [
       "tensor([[4.0000e+00, 8.4500e+02, 2.0000e+00, 2.2084e+03, 2.6500e+00, 1.5000e+01],\n",
       "        [0.0000e+00, 6.4700e+02, 3.0000e+00, 1.2712e+03, 6.5600e+00, 2.1000e+01],\n",
       "        [0.0000e+00, 7.1700e+02, 2.0000e+00, 2.5870e+03, 5.8000e+00, 2.7000e+01],\n",
       "        [3.0000e+00, 6.0000e+02, 4.0000e+00, 1.4892e+03, 8.6000e+00, 2.1000e+01],\n",
       "        [4.0000e+00, 8.4600e+02, 3.0000e+00, 2.8841e+03, 8.5100e+00, 3.1000e+01],\n",
       "        [2.0000e+00, 8.8200e+02, 3.0000e+00, 2.0276e+03, 9.3400e+00, 2.8000e+01],\n",
       "        [0.0000e+00, 1.9700e+02, 3.0000e+00, 1.2862e+03, 8.6400e+00, 1.5000e+01],\n",
       "        [4.0000e+00, 1.3400e+02, 1.0000e+00, 2.4533e+03, 6.3000e+00, 1.5000e+01],\n",
       "        [4.0000e+00, 7.8100e+02, 4.0000e+00, 3.5924e+03, 7.0400e+00, 1.5000e+01],\n",
       "        [1.0000e+00, 7.8000e+01, 2.0000e+00, 2.7371e+03, 9.2500e+00, 1.4000e+01],\n",
       "        [4.0000e+00, 9.6000e+02, 3.0000e+00, 2.8141e+03, 6.2900e+00, 3.5000e+01],\n",
       "        [0.0000e+00, 7.3000e+01, 3.0000e+00, 2.8894e+03, 9.0900e+00, 1.0000e+01],\n",
       "        [3.0000e+00, 9.4600e+02, 4.0000e+00, 2.9114e+03, 1.0900e+00, 2.8000e+01],\n",
       "        [1.0000e+00, 2.8000e+02, 2.0000e+00, 1.3599e+03, 4.1200e+00, 2.1000e+01],\n",
       "        [2.0000e+00, 8.5900e+02, 3.0000e+00, 1.5191e+03, 5.9000e+00, 3.7000e+01],\n",
       "        [0.0000e+00, 9.5400e+02, 3.0000e+00, 2.5777e+03, 1.8300e+00, 2.8000e+01],\n",
       "        [0.0000e+00, 8.2800e+02, 1.0000e+00, 3.4349e+03, 3.0400e+00, 3.9000e+01],\n",
       "        [0.0000e+00, 5.3600e+02, 1.0000e+00, 1.6979e+03, 3.8400e+00, 2.1000e+01],\n",
       "        [3.0000e+00, 2.6400e+02, 3.0000e+00, 1.2609e+03, 8.5900e+00, 3.3000e+01],\n",
       "        [1.0000e+00, 9.2300e+02, 3.0000e+00, 1.8292e+03, 2.8800e+00, 3.0000e+01],\n",
       "        [1.0000e+00, 6.7900e+02, 1.0000e+00, 1.0000e+00, 0.0000e+00, 0.0000e+00],\n",
       "        [1.0000e+00, 2.5900e+02, 2.0000e+00, 1.0000e+00, 0.0000e+00, 0.0000e+00],\n",
       "        [4.0000e+00, 9.0600e+02, 3.0000e+00, 3.0000e+00, 0.0000e+00, 0.0000e+00],\n",
       "        [0.0000e+00, 1.9900e+02, 4.0000e+00, 4.0000e+00, 0.0000e+00, 0.0000e+00],\n",
       "        [2.0000e+00, 8.8000e+02, 1.0000e+00, 1.0000e+00, 0.0000e+00, 0.0000e+00],\n",
       "        [1.0000e+00, 3.8600e+02, 2.0000e+00, 1.0000e+00, 0.0000e+00, 0.0000e+00],\n",
       "        [1.0000e+00, 4.3200e+02, 4.0000e+00, 4.0000e+00, 0.0000e+00, 0.0000e+00],\n",
       "        [4.0000e+00, 3.2900e+02, 3.0000e+00, 2.0000e+00, 0.0000e+00, 0.0000e+00],\n",
       "        [4.0000e+00, 7.7600e+02, 3.0000e+00, 2.0000e+00, 0.0000e+00, 0.0000e+00],\n",
       "        [1.0000e+00, 5.4700e+02, 4.0000e+00, 3.0000e+00, 0.0000e+00, 0.0000e+00],\n",
       "        [3.0000e+00, 5.4700e+02, 3.0000e+00, 3.0000e+00, 0.0000e+00, 0.0000e+00],\n",
       "        [5.0000e+00, 5.0100e+02, 3.0000e+00, 3.0000e+00, 0.0000e+00, 0.0000e+00]])"
      ]
     },
     "execution_count": 8,
     "metadata": {},
     "output_type": "execute_result"
    }
   ],
   "execution_count": 8
  },
  {
   "metadata": {
    "ExecuteTime": {
     "end_time": "2025-05-20T18:06:20.351096Z",
     "start_time": "2025-05-20T18:06:20.347740Z"
    }
   },
   "cell_type": "code",
   "source": "edge_index",
   "id": "471197cec2f97582",
   "outputs": [
    {
     "data": {
      "text/plain": [
       "tensor([[16,  3, 17, 10, 19, 10,  6, 16,  4, 11, 19,  4, 12,  3,  8, 14, 10, 15,\n",
       "         18,  9,  0,  7, 13, 17,  9, 14, 11, 17, 16,  3, 16,  1,  9, 19,  1,  6,\n",
       "          7, 17, 17,  1,  2,  1,  3, 13, 15,  4,  6,  2,  2,  1,  0, 13,  4, 10,\n",
       "          3, 10, 18,  2,  9, 10,  8,  5, 14,  3,  1,  2, 15, 18, 16,  3,  5, 16,\n",
       "          9, 17,  3, 18, 15,  3,  0, 15,  7, 16,  9,  9, 11, 12,  9,  1, 13,  7,\n",
       "          4, 17,  6,  0, 14, 14, 18,  4,  7, 18],\n",
       "        [20, 23, 25, 30, 22, 31, 21, 25, 30, 29, 24, 31, 24, 23, 30, 24, 31, 25,\n",
       "         24, 27, 30, 31, 28, 25, 22, 24, 26, 29, 25, 23, 29, 20, 24, 27, 21, 28,\n",
       "         30, 21, 29, 25, 21, 29, 24, 28, 26, 31, 20, 25, 21, 21, 30, 28, 31, 30,\n",
       "         23, 31, 24, 29, 24, 30, 31, 24, 24, 23, 29, 26, 26, 24, 28, 23, 24, 25,\n",
       "         24, 26, 24, 23, 29, 24, 30, 25, 31, 25, 23, 22, 26, 23, 27, 29, 24, 30,\n",
       "         31, 21, 25, 30, 24, 24, 24, 31, 30, 23]])"
      ]
     },
     "execution_count": 9,
     "metadata": {},
     "output_type": "execute_result"
    }
   ],
   "execution_count": 9
  },
  {
   "metadata": {
    "jupyter": {
     "is_executing": true
    }
   },
   "cell_type": "code",
   "source": "data",
   "id": "6a6c93cf6ad94941",
   "outputs": [],
   "execution_count": null
  },
  {
   "metadata": {
    "ExecuteTime": {
     "end_time": "2025-05-19T19:38:24.748345Z",
     "start_time": "2025-05-19T19:38:24.735479Z"
    }
   },
   "cell_type": "code",
   "source": [
    "# === Обучающая маска ===\n",
    "user_indices = np.arange(num_users)\n",
    "train_idx, test_idx = train_test_split(user_indices, test_size=1, random_state=42)\n",
    "train_mask = torch.zeros(data.num_nodes, dtype=torch.bool)\n",
    "train_mask[train_idx] = True\n",
    "data.train_mask = train_mask"
   ],
   "id": "e4f0b124b62a9bb9",
   "outputs": [],
   "execution_count": 142
  },
  {
   "metadata": {
    "ExecuteTime": {
     "end_time": "2025-05-19T19:38:24.874168Z",
     "start_time": "2025-05-19T19:38:24.869296Z"
    }
   },
   "cell_type": "code",
   "source": [
    "# === Модель GCN ===\n",
    "class GCN(torch.nn.Module):\n",
    "    def __init__(self, input_dim, hidden_dim, output_dim):\n",
    "        super().__init__()\n",
    "        self.conv1 = GCNConv(input_dim, hidden_dim)\n",
    "        self.conv2 = GCNConv(hidden_dim, output_dim)\n",
    "\n",
    "    def forward(self, data):\n",
    "        x, edge_index = data.x, data.edge_index\n",
    "        x = self.conv1(x, edge_index)\n",
    "        x = F.relu(x)\n",
    "        x = self.conv2(x, edge_index)\n",
    "        return x"
   ],
   "id": "d05bb4312e3d30ac",
   "outputs": [],
   "execution_count": 143
  },
  {
   "metadata": {
    "ExecuteTime": {
     "end_time": "2025-05-19T19:38:25.093021Z",
     "start_time": "2025-05-19T19:38:24.964222Z"
    }
   },
   "cell_type": "code",
   "source": [
    "model = GCN(input_dim=6, hidden_dim=16, output_dim=2)\n",
    "optimizer = torch.optim.Adam(model.parameters(), lr=0.01)\n",
    "criterion = torch.nn.CrossEntropyLoss()\n",
    "\n",
    "for epoch in range(1, 101):\n",
    "    model.train()\n",
    "    optimizer.zero_grad()\n",
    "    out = model(data)\n",
    "    loss = criterion(out[data.train_mask], data.y[data.train_mask])\n",
    "    loss.backward()\n",
    "    optimizer.step()\n",
    "    if epoch % 10 == 0 or epoch == 1:\n",
    "        print(f\"Epoch {epoch:03d}, Loss: {loss.item():.4f}\")\n",
    "\n",
    "# === Загрузка тестовых данных ===\n",
    "nodes_test = pd.read_csv(\"data/nodes_test.csv\")\n",
    "edges_test = pd.read_csv(\"data/edges_test.csv\")\n",
    "resources_test = pd.read_csv(\"data/resources_test.csv\")\n",
    "\n",
    "nodes_test['role_encoded'] = role_encoder.transform(nodes_test['role'])\n",
    "nodes_test['last_login_time'] = pd.to_datetime(nodes_test['last_login_time'])\n",
    "nodes_test['days_since_login'] = (ref_date - nodes_test['last_login_time']).dt.days\n",
    "\n",
    "x_test_users = nodes_test[['role_encoded', 'login_count', 'access_level', 'session_time', 'var_activity', 'days_since_login']].to_numpy()\n",
    "resources_test['resource_type_encoded'] = resource_encoder.transform(resources_test['resource_type'])\n",
    "x_test_resources = resources_test[['resource_type_encoded', 'importance', 'access_level']].to_numpy()\n",
    "x_test_resources_padded = np.hstack([x_test_resources, np.zeros((x_test_resources.shape[0], x_test_users.shape[1] - x_test_resources.shape[1]))])\n",
    "\n",
    "x_test_combined = np.vstack([x_test_users, x_test_resources_padded])\n",
    "num_test_users = x_test_users.shape[0]\n",
    "edges_test['target_resource'] += num_test_users\n",
    "edge_index_test = torch.tensor([edges_test['source_user'].values, edges_test['target_resource'].values], dtype=torch.long)\n",
    "\n",
    "test_data = Data(x=torch.tensor(x_test_combined, dtype=torch.float), edge_index=edge_index_test)\n",
    "\n",
    "# === Предсказание на новых данных ===\n",
    "model.eval()\n",
    "with torch.no_grad():\n",
    "    out = model(test_data)\n",
    "    preds = out.argmax(dim=1)\n",
    "    test_preds = preds[:num_test_users]  # только для пользователей\n",
    "    print(\"\\n🔎 Test Predictions (0 - низкая активность, 1 - высокая):\")\n",
    "    print(test_preds.cpu().numpy())\n",
    "    print(preds)\n"
   ],
   "id": "23dbf093",
   "outputs": [
    {
     "ename": "IndexError",
     "evalue": "Target 3 is out of bounds.",
     "output_type": "error",
     "traceback": [
      "\u001B[0;31m---------------------------------------------------------------------------\u001B[0m",
      "\u001B[0;31mIndexError\u001B[0m                                Traceback (most recent call last)",
      "Cell \u001B[0;32mIn[144], line 9\u001B[0m\n\u001B[1;32m      7\u001B[0m optimizer\u001B[38;5;241m.\u001B[39mzero_grad()\n\u001B[1;32m      8\u001B[0m out \u001B[38;5;241m=\u001B[39m model(data)\n\u001B[0;32m----> 9\u001B[0m loss \u001B[38;5;241m=\u001B[39m criterion(out[data\u001B[38;5;241m.\u001B[39mtrain_mask], data\u001B[38;5;241m.\u001B[39my[data\u001B[38;5;241m.\u001B[39mtrain_mask])\n\u001B[1;32m     10\u001B[0m loss\u001B[38;5;241m.\u001B[39mbackward()\n\u001B[1;32m     11\u001B[0m optimizer\u001B[38;5;241m.\u001B[39mstep()\n",
      "File \u001B[0;32m~/anaconda3/lib/python3.12/site-packages/torch/nn/modules/module.py:1751\u001B[0m, in \u001B[0;36mModule._wrapped_call_impl\u001B[0;34m(self, *args, **kwargs)\u001B[0m\n\u001B[1;32m   1749\u001B[0m     \u001B[38;5;28;01mreturn\u001B[39;00m \u001B[38;5;28mself\u001B[39m\u001B[38;5;241m.\u001B[39m_compiled_call_impl(\u001B[38;5;241m*\u001B[39margs, \u001B[38;5;241m*\u001B[39m\u001B[38;5;241m*\u001B[39mkwargs)  \u001B[38;5;66;03m# type: ignore[misc]\u001B[39;00m\n\u001B[1;32m   1750\u001B[0m \u001B[38;5;28;01melse\u001B[39;00m:\n\u001B[0;32m-> 1751\u001B[0m     \u001B[38;5;28;01mreturn\u001B[39;00m \u001B[38;5;28mself\u001B[39m\u001B[38;5;241m.\u001B[39m_call_impl(\u001B[38;5;241m*\u001B[39margs, \u001B[38;5;241m*\u001B[39m\u001B[38;5;241m*\u001B[39mkwargs)\n",
      "File \u001B[0;32m~/anaconda3/lib/python3.12/site-packages/torch/nn/modules/module.py:1762\u001B[0m, in \u001B[0;36mModule._call_impl\u001B[0;34m(self, *args, **kwargs)\u001B[0m\n\u001B[1;32m   1757\u001B[0m \u001B[38;5;66;03m# If we don't have any hooks, we want to skip the rest of the logic in\u001B[39;00m\n\u001B[1;32m   1758\u001B[0m \u001B[38;5;66;03m# this function, and just call forward.\u001B[39;00m\n\u001B[1;32m   1759\u001B[0m \u001B[38;5;28;01mif\u001B[39;00m \u001B[38;5;129;01mnot\u001B[39;00m (\u001B[38;5;28mself\u001B[39m\u001B[38;5;241m.\u001B[39m_backward_hooks \u001B[38;5;129;01mor\u001B[39;00m \u001B[38;5;28mself\u001B[39m\u001B[38;5;241m.\u001B[39m_backward_pre_hooks \u001B[38;5;129;01mor\u001B[39;00m \u001B[38;5;28mself\u001B[39m\u001B[38;5;241m.\u001B[39m_forward_hooks \u001B[38;5;129;01mor\u001B[39;00m \u001B[38;5;28mself\u001B[39m\u001B[38;5;241m.\u001B[39m_forward_pre_hooks\n\u001B[1;32m   1760\u001B[0m         \u001B[38;5;129;01mor\u001B[39;00m _global_backward_pre_hooks \u001B[38;5;129;01mor\u001B[39;00m _global_backward_hooks\n\u001B[1;32m   1761\u001B[0m         \u001B[38;5;129;01mor\u001B[39;00m _global_forward_hooks \u001B[38;5;129;01mor\u001B[39;00m _global_forward_pre_hooks):\n\u001B[0;32m-> 1762\u001B[0m     \u001B[38;5;28;01mreturn\u001B[39;00m forward_call(\u001B[38;5;241m*\u001B[39margs, \u001B[38;5;241m*\u001B[39m\u001B[38;5;241m*\u001B[39mkwargs)\n\u001B[1;32m   1764\u001B[0m result \u001B[38;5;241m=\u001B[39m \u001B[38;5;28;01mNone\u001B[39;00m\n\u001B[1;32m   1765\u001B[0m called_always_called_hooks \u001B[38;5;241m=\u001B[39m \u001B[38;5;28mset\u001B[39m()\n",
      "File \u001B[0;32m~/anaconda3/lib/python3.12/site-packages/torch/nn/modules/loss.py:1297\u001B[0m, in \u001B[0;36mCrossEntropyLoss.forward\u001B[0;34m(self, input, target)\u001B[0m\n\u001B[1;32m   1296\u001B[0m \u001B[38;5;28;01mdef\u001B[39;00m \u001B[38;5;21mforward\u001B[39m(\u001B[38;5;28mself\u001B[39m, \u001B[38;5;28minput\u001B[39m: Tensor, target: Tensor) \u001B[38;5;241m-\u001B[39m\u001B[38;5;241m>\u001B[39m Tensor:\n\u001B[0;32m-> 1297\u001B[0m     \u001B[38;5;28;01mreturn\u001B[39;00m F\u001B[38;5;241m.\u001B[39mcross_entropy(\n\u001B[1;32m   1298\u001B[0m         \u001B[38;5;28minput\u001B[39m,\n\u001B[1;32m   1299\u001B[0m         target,\n\u001B[1;32m   1300\u001B[0m         weight\u001B[38;5;241m=\u001B[39m\u001B[38;5;28mself\u001B[39m\u001B[38;5;241m.\u001B[39mweight,\n\u001B[1;32m   1301\u001B[0m         ignore_index\u001B[38;5;241m=\u001B[39m\u001B[38;5;28mself\u001B[39m\u001B[38;5;241m.\u001B[39mignore_index,\n\u001B[1;32m   1302\u001B[0m         reduction\u001B[38;5;241m=\u001B[39m\u001B[38;5;28mself\u001B[39m\u001B[38;5;241m.\u001B[39mreduction,\n\u001B[1;32m   1303\u001B[0m         label_smoothing\u001B[38;5;241m=\u001B[39m\u001B[38;5;28mself\u001B[39m\u001B[38;5;241m.\u001B[39mlabel_smoothing,\n\u001B[1;32m   1304\u001B[0m     )\n",
      "File \u001B[0;32m~/anaconda3/lib/python3.12/site-packages/torch/nn/functional.py:3494\u001B[0m, in \u001B[0;36mcross_entropy\u001B[0;34m(input, target, weight, size_average, ignore_index, reduce, reduction, label_smoothing)\u001B[0m\n\u001B[1;32m   3492\u001B[0m \u001B[38;5;28;01mif\u001B[39;00m size_average \u001B[38;5;129;01mis\u001B[39;00m \u001B[38;5;129;01mnot\u001B[39;00m \u001B[38;5;28;01mNone\u001B[39;00m \u001B[38;5;129;01mor\u001B[39;00m reduce \u001B[38;5;129;01mis\u001B[39;00m \u001B[38;5;129;01mnot\u001B[39;00m \u001B[38;5;28;01mNone\u001B[39;00m:\n\u001B[1;32m   3493\u001B[0m     reduction \u001B[38;5;241m=\u001B[39m _Reduction\u001B[38;5;241m.\u001B[39mlegacy_get_string(size_average, reduce)\n\u001B[0;32m-> 3494\u001B[0m \u001B[38;5;28;01mreturn\u001B[39;00m torch\u001B[38;5;241m.\u001B[39m_C\u001B[38;5;241m.\u001B[39m_nn\u001B[38;5;241m.\u001B[39mcross_entropy_loss(\n\u001B[1;32m   3495\u001B[0m     \u001B[38;5;28minput\u001B[39m,\n\u001B[1;32m   3496\u001B[0m     target,\n\u001B[1;32m   3497\u001B[0m     weight,\n\u001B[1;32m   3498\u001B[0m     _Reduction\u001B[38;5;241m.\u001B[39mget_enum(reduction),\n\u001B[1;32m   3499\u001B[0m     ignore_index,\n\u001B[1;32m   3500\u001B[0m     label_smoothing,\n\u001B[1;32m   3501\u001B[0m )\n",
      "\u001B[0;31mIndexError\u001B[0m: Target 3 is out of bounds."
     ]
    }
   ],
   "execution_count": 144
  },
  {
   "metadata": {},
   "cell_type": "code",
   "outputs": [],
   "execution_count": null,
   "source": "",
   "id": "68e67c4516d585f9"
  },
  {
   "metadata": {
    "ExecuteTime": {
     "end_time": "2025-05-19T19:38:25.097543623Z",
     "start_time": "2025-05-19T19:00:21.606967Z"
    }
   },
   "cell_type": "code",
   "source": "test_data",
   "id": "4c699d0b303d293f",
   "outputs": [
    {
     "data": {
      "text/plain": [
       "Data(x=[32, 6], edge_index=[2, 100])"
      ]
     },
     "execution_count": 128,
     "metadata": {},
     "output_type": "execute_result"
    }
   ],
   "execution_count": 128
  },
  {
   "metadata": {
    "ExecuteTime": {
     "end_time": "2025-05-19T19:38:25.107115043Z",
     "start_time": "2025-05-19T19:00:23.694913Z"
    }
   },
   "cell_type": "code",
   "source": "data.y",
   "id": "96ee540f18a5f6fe",
   "outputs": [
    {
     "data": {
      "text/plain": [
       "tensor([ 4,  0,  0,  3,  4,  2,  0,  4,  4,  1,  4,  0,  3,  1,  2,  0,  0,  0,\n",
       "         3,  1, -1, -1, -1, -1, -1, -1, -1, -1, -1, -1, -1, -1])"
      ]
     },
     "execution_count": 129,
     "metadata": {},
     "output_type": "execute_result"
    }
   ],
   "execution_count": 129
  }
 ],
 "metadata": {},
 "nbformat": 4,
 "nbformat_minor": 5
}

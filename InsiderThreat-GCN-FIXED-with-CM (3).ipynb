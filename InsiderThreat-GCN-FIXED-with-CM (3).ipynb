{
 "cells": [
  {
   "cell_type": "code",
   "execution_count": null,
   "id": "6ecc2f64",
   "metadata": {},
   "outputs": [],
   "source": [
    "\n",
    "from sklearn.metrics import confusion_matrix, ConfusionMatrixDisplay\n",
    "import matplotlib.pyplot as plt\n",
    "\n",
    "def evaluate_with_confusion_matrix(model, data, y_true, num_test_users):\n",
    "    model.eval()\n",
    "    with torch.no_grad():\n",
    "        out = model(data)\n",
    "        preds = out.argmax(dim=1)\n",
    "        test_preds = preds[:num_test_users].cpu().numpy()\n",
    "        y_test_true = y_true[:num_test_users].cpu().numpy()\n",
    "        cm = confusion_matrix(y_test_true, test_preds)\n",
    "        disp = ConfusionMatrixDisplay(confusion_matrix=cm)\n",
    "        disp.plot(cmap=plt.cm.Blues)\n",
    "        plt.title(\"Confusion Matrix\")\n",
    "        plt.show()\n"
   ]
  },
  {
   "cell_type": "code",
   "execution_count": null,
   "id": "bf048be2",
   "metadata": {},
   "outputs": [],
   "source": [
    "\n",
    "def evaluate_with_confusion_matrix_gcn_lstm(model, data, lstm_input_tensor, y_true, num_test_users):\n",
    "    model.eval()\n",
    "    with torch.no_grad():\n",
    "        out = model(data, lstm_input_tensor)\n",
    "        preds = out.argmax(dim=1)\n",
    "        test_preds = preds[:num_test_users].cpu().numpy()\n",
    "        y_test_true = y_true[:num_test_users].cpu().numpy()\n",
    "        cm = confusion_matrix(y_test_true, test_preds)\n",
    "        disp = ConfusionMatrixDisplay(confusion_matrix=cm)\n",
    "        disp.plot(cmap=plt.cm.Blues)\n",
    "        plt.title(\"Confusion Matrix - GCN+LSTM\")\n",
    "        plt.show()\n",
    "\n",
    "# Пример вызова:\n",
    "# evaluate_with_confusion_matrix_gcn_lstm(model, data, lstm_input_tensor, y, num_test_users)\n"
   ]
  },
  {
   "cell_type": "code",
   "execution_count": null,
   "id": "5ebc51a1",
   "metadata": {},
   "outputs": [],
   "source": [
    "\n",
    "# Предполагается, что model, data, lstm_input_tensor, y_test уже заданы\n",
    "# и модель прошла этап тестирования\n",
    "\n",
    "# Получаем количество тестовых пользователей\n",
    "num_test_users = y_test.shape[0]\n",
    "\n",
    "# Визуализируем confusion matrix\n",
    "evaluate_with_confusion_matrix_gcn_lstm(model, data, lstm_input_tensor, y_test, num_test_users)\n"
   ]
  },
  {
   "cell_type": "code",
   "execution_count": null,
   "id": "b9fe5165",
   "metadata": {},
   "outputs": [],
   "source": [
    "\n",
    "# Предполагается, что model, data, y_test уже заданы\n",
    "# и модель прошла этап тестирования\n",
    "\n",
    "# Получаем количество тестовых пользователей\n",
    "num_test_users = y_test.shape[0]\n",
    "\n",
    "# Визуализируем confusion matrix для GCN\n",
    "evaluate_with_confusion_matrix(model, data, y_test, num_test_users)\n"
   ]
  }
 ],
 "metadata": {
  "kernelspec": {
   "display_name": "Python 3",
   "language": "python",
   "name": "python3"
  },
  "language_info": {
   "codemirror_mode": {
    "name": "ipython",
    "version": 2
   },
   "file_extension": ".py",
   "mimetype": "text/x-python",
   "name": "python",
   "nbconvert_exporter": "python",
   "pygments_lexer": "ipython2",
   "version": "2.7.6"
  }
 },
 "nbformat": 4,
 "nbformat_minor": 5
}

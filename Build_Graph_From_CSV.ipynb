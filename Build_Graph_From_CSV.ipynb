{
 "cells": [
  {
   "cell_type": "code",
   "id": "bccb63e0",
   "metadata": {
    "ExecuteTime": {
     "end_time": "2025-06-06T19:56:00.523153Z",
     "start_time": "2025-06-06T19:55:56.920635Z"
    }
   },
   "source": [
    "\n",
    "import pandas as pd\n",
    "import torch\n",
    "from torch_geometric.data import Data\n",
    "from sklearn.preprocessing import LabelEncoder\n"
   ],
   "outputs": [],
   "execution_count": 1
  },
  {
   "cell_type": "code",
   "id": "8042bd79",
   "metadata": {
    "ExecuteTime": {
     "end_time": "2025-06-06T19:56:00.642856Z",
     "start_time": "2025-06-06T19:56:00.530270Z"
    }
   },
   "source": [
    "\n",
    "nodes_df = pd.read_csv(\"data/cert4.2/out/nodes.csv\", index_col=0)\n",
    "resources_df = pd.read_csv(\"data/cert4.2/out/resources.csv\")\n",
    "edges_df = pd.read_csv(\"data/cert4.2/out/edges.csv\")\n"
   ],
   "outputs": [],
   "execution_count": 2
  },
  {
   "cell_type": "code",
   "id": "db845519",
   "metadata": {
    "ExecuteTime": {
     "end_time": "2025-06-06T19:56:00.664228Z",
     "start_time": "2025-06-06T19:56:00.648856Z"
    }
   },
   "source": [
    "\n",
    "user_encoder = LabelEncoder()\n",
    "resource_encoder = LabelEncoder()\n",
    "\n",
    "nodes_df['encoded_id'] = user_encoder.fit_transform(nodes_df.index)\n",
    "resources_df['encoded_id'] = resource_encoder.fit_transform(resources_df['resource_id'])\n",
    "\n",
    "user_features = torch.tensor(nodes_df.drop(columns=['user', 'employee_name'], errors='ignore').values, dtype=torch.float)\n",
    "resource_features = torch.zeros((len(resources_df), user_features.shape[1]))  # padding zeros\n",
    "x = torch.cat([user_features, resource_features], dim=0)\n"
   ],
   "outputs": [],
   "execution_count": 3
  },
  {
   "cell_type": "code",
   "id": "69dd5a58",
   "metadata": {
    "ExecuteTime": {
     "end_time": "2025-06-06T19:56:00.841567Z",
     "start_time": "2025-06-06T19:56:00.702678Z"
    }
   },
   "source": [
    "\n",
    "edges_df['source_encoded'] = user_encoder.transform(edges_df['source_user'])\n",
    "edges_df['target_encoded'] = resource_encoder.transform(edges_df['target_resource']) + len(nodes_df)\n",
    "edge_index = torch.tensor(edges_df[['source_encoded', 'target_encoded']].values.T, dtype=torch.long)\n",
    "\n",
    "y_raw = (nodes_df['login_count'] > nodes_df['login_count'].median()).astype(int)\n",
    "y = torch.cat([torch.tensor(y_raw.values, dtype=torch.long), torch.full((len(resources_df),), -1, dtype=torch.long)])\n",
    "train_mask = torch.zeros(x.shape[0], dtype=torch.bool)\n",
    "train_mask[:len(nodes_df)] = True\n",
    "\n",
    "data = Data(x=x, edge_index=edge_index, y=y, train_mask=train_mask)\n",
    "data\n"
   ],
   "outputs": [
    {
     "data": {
      "text/plain": [
       "Data(x=[6228, 16], edge_index=[2, 488451], y=[6228], train_mask=[6228])"
      ]
     },
     "execution_count": 4,
     "metadata": {},
     "output_type": "execute_result"
    }
   ],
   "execution_count": 4
  }
 ],
 "metadata": {},
 "nbformat": 4,
 "nbformat_minor": 5
}

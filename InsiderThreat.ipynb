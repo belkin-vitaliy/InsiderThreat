{
 "cells": [
  {
   "metadata": {},
   "cell_type": "markdown",
   "source": "# обнаружение инсайдерских угроз, которая использует комбинацию GCN (Graph Convolutional Network), LSTM, и GRU.",
   "id": "8a77807f92f26ee"
  },
  {
   "metadata": {
    "ExecuteTime": {
     "end_time": "2025-05-01T07:07:57.811514Z",
     "start_time": "2025-05-01T07:07:57.808631Z"
    }
   },
   "cell_type": "code",
   "source": [
    "import torch\n",
    "import torch.nn as nn\n",
    "import torch.nn.functional as F\n",
    "from torch_geometric.nn import GCNConv\n",
    "from torch_geometric.data import Data\n",
    "from torch_geometric.loader import DataLoader"
   ],
   "id": "dbe525b36ba61b64",
   "outputs": [],
   "execution_count": 7
  },
  {
   "metadata": {},
   "cell_type": "markdown",
   "source": "# GCN + LSTM + GRU модель",
   "id": "9e6c94345e29d01"
  },
  {
   "metadata": {
    "ExecuteTime": {
     "end_time": "2025-05-01T07:07:57.868453Z",
     "start_time": "2025-05-01T07:07:57.865415Z"
    }
   },
   "cell_type": "code",
   "source": [
    "class InsiderThreatModel(nn.Module):\n",
    "    def __init__(self, in_feats, hidden_gcn, hidden_rnn, num_classes):\n",
    "        super(InsiderThreatModel, self).__init__()\n",
    "        self.gcn1 = GCNConv(in_feats, hidden_gcn)\n",
    "        self.gcn2 = GCNConv(hidden_gcn, hidden_gcn)\n",
    "\n",
    "        self.lstm = nn.LSTM(hidden_gcn, hidden_rnn, batch_first=True)\n",
    "        self.gru = nn.GRU(hidden_rnn, hidden_rnn, batch_first=True)\n",
    "\n",
    "        self.fc = nn.Linear(hidden_rnn, num_classes)\n",
    "\n",
    "    def forward(self, x, edge_index, seq_lengths):\n",
    "        # GCN layers\n",
    "        x = F.relu(self.gcn1(x, edge_index))\n",
    "        x = F.relu(self.gcn2(x, edge_index))\n",
    "\n",
    "        # Упаковываем последовательности\n",
    "        x = x.unsqueeze(1)  # [N, 1, F]\n",
    "        lstm_out, _ = self.lstm(x)\n",
    "        gru_out, _ = self.gru(lstm_out)\n",
    "\n",
    "        out = self.fc(gru_out[:, -1, :])  # берем последний временной шаг\n",
    "        return F.log_softmax(out, dim=1)"
   ],
   "id": "d163726b4f696890",
   "outputs": [],
   "execution_count": 8
  },
  {
   "metadata": {},
   "cell_type": "markdown",
   "source": "# Пример генерации графа (данные нужно адаптировать под реальные события)",
   "id": "e9fb8d40aac58548"
  },
  {
   "metadata": {
    "ExecuteTime": {
     "end_time": "2025-05-01T07:07:57.921477Z",
     "start_time": "2025-05-01T07:07:57.917810Z"
    }
   },
   "cell_type": "code",
   "source": [
    "def create_example_data():\n",
    "    # 5 узлов, 4 признака\n",
    "    x = torch.rand((5, 4), dtype=torch.float)\n",
    "    edge_index = torch.tensor([[0, 1, 2, 3, 4, 1], [1, 0, 3, 4, 0, 3]], dtype=torch.long)\n",
    "\n",
    "    # Метки: 0 - нормальный, 1 - угроза\n",
    "    y = torch.tensor([0, 0, 1, 0, 1], dtype=torch.long)\n",
    "    data = Data(x=x, edge_index=edge_index, y=y)\n",
    "    return data"
   ],
   "id": "fbc121e30a2defb3",
   "outputs": [],
   "execution_count": 9
  },
  {
   "metadata": {},
   "cell_type": "markdown",
   "source": "# Обучение модели",
   "id": "1456035d5b3e004b"
  },
  {
   "metadata": {
    "ExecuteTime": {
     "end_time": "2025-05-01T07:07:57.973026Z",
     "start_time": "2025-05-01T07:07:57.969033Z"
    }
   },
   "cell_type": "code",
   "source": [
    "def train_model():\n",
    "    data = create_example_data()\n",
    "    model = InsiderThreatModel(in_feats=4, hidden_gcn=16, hidden_rnn=8, num_classes=2)\n",
    "    optimizer = torch.optim.Adam(model.parameters(), lr=0.01)\n",
    "    criterion = nn.NLLLoss()\n",
    "\n",
    "    model.train()\n",
    "    for epoch in range(100):\n",
    "        optimizer.zero_grad()\n",
    "        out = model(data.x, data.edge_index, None)\n",
    "        loss = criterion(out, data.y)\n",
    "        loss.backward()\n",
    "        optimizer.step()\n",
    "        if epoch % 10 == 0:\n",
    "            print(f\"Epoch {epoch}, Loss: {loss.item():.4f}\")\n",
    "\n",
    "    print(\"Training complete.\")"
   ],
   "id": "8e6a875cc135d70a",
   "outputs": [],
   "execution_count": 10
  },
  {
   "metadata": {
    "ExecuteTime": {
     "end_time": "2025-05-01T07:07:58.242579Z",
     "start_time": "2025-05-01T07:07:58.023975Z"
    }
   },
   "cell_type": "code",
   "source": "train_model()",
   "id": "6f7b89f4a3b8ba4d",
   "outputs": [
    {
     "name": "stdout",
     "output_type": "stream",
     "text": [
      "Epoch 0, Loss: 0.7541\n",
      "Epoch 10, Loss: 0.6770\n",
      "Epoch 20, Loss: 0.6673\n",
      "Epoch 30, Loss: 0.6280\n",
      "Epoch 40, Loss: 0.5388\n",
      "Epoch 50, Loss: 0.3837\n",
      "Epoch 60, Loss: 0.2290\n",
      "Epoch 70, Loss: 0.1105\n",
      "Epoch 80, Loss: 0.0402\n",
      "Epoch 90, Loss: 0.0167\n",
      "Training complete.\n"
     ]
    }
   ],
   "execution_count": 11
  },
  {
   "metadata": {
    "ExecuteTime": {
     "end_time": "2025-05-01T07:07:58.275529Z",
     "start_time": "2025-05-01T07:07:58.273926Z"
    }
   },
   "cell_type": "code",
   "source": "",
   "id": "9ffe86600744a934",
   "outputs": [],
   "execution_count": null
  }
 ],
 "metadata": {
  "kernelspec": {
   "display_name": "Python 3",
   "language": "python",
   "name": "python3"
  },
  "language_info": {
   "codemirror_mode": {
    "name": "ipython",
    "version": 2
   },
   "file_extension": ".py",
   "mimetype": "text/x-python",
   "name": "python",
   "nbconvert_exporter": "python",
   "pygments_lexer": "ipython2",
   "version": "2.7.6"
  }
 },
 "nbformat": 4,
 "nbformat_minor": 5
}

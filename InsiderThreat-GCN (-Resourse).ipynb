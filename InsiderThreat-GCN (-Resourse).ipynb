{
 "cells": [
  {
   "metadata": {},
   "cell_type": "markdown",
   "source": "# **GCN модель для анализа поведения пользователей**",
   "id": "7e2fb3268adfff5e"
  },
  {
   "metadata": {},
   "cell_type": "markdown",
   "source": [
    "### Загрузка данных:\n",
    "* Загружаются данные из CSV-файлов, включая информацию об узлах, рёбрах и ресурсах.\n",
    "* Для узлов (пользователей) извлекаются такие признаки, как роль пользователя, количество логинов, уровень доступа и время с последнего входа.\n",
    "* Для ресурсов вычисляются дополнительные признаки, такие как тип ресурса и уровень доступа."
   ],
   "id": "f8ba2cbf2d6ef441"
  },
  {
   "metadata": {
    "ExecuteTime": {
     "end_time": "2025-05-20T21:26:05.922219Z",
     "start_time": "2025-05-20T21:26:05.912627Z"
    }
   },
   "cell_type": "code",
   "source": [
    "import pandas as pd\n",
    "\n",
    "# Пути к файлам\n",
    "nodes_path = \"data/nodes.csv\"\n",
    "resources_path = \"data/resources.csv\"\n",
    "edges_path = \"data/edges.csv\"\n",
    "\n",
    "# Загрузка данных\n",
    "nodes_df = pd.read_csv(nodes_path)\n",
    "resources_df = pd.read_csv(resources_path)\n",
    "edges_df = pd.read_csv(edges_path, parse_dates=[\"timestamp\"])\n",
    "\n",
    "# Убедимся, что timestamp — это datetime\n",
    "edges_df['timestamp'] = pd.to_datetime(edges_df['timestamp'], errors='coerce')\n"
   ],
   "id": "ae3fdcd7cd1ec5b1",
   "outputs": [],
   "execution_count": 408
  },
  {
   "metadata": {
    "ExecuteTime": {
     "end_time": "2025-05-20T21:26:06.017398Z",
     "start_time": "2025-05-20T21:26:06.006434Z"
    }
   },
   "cell_type": "code",
   "source": [
    "import numpy as np\n",
    "\n",
    "# Параметры\n",
    "\n",
    "start_hour = 9\n",
    "end_hour = 18\n",
    "\n",
    "offset = len(nodes_df)\n",
    "\n",
    "# Определение нерабочего времени\n",
    "edges_df['timestamp'] = pd.to_datetime(edges_df['timestamp'], errors='coerce')\n",
    "edges_df['is_after_hours'] = (\n",
    "    (edges_df['timestamp'].dt.hour < start_hour) |\n",
    "    (edges_df['timestamp'].dt.hour >= end_hour) |\n",
    "    (edges_df['timestamp'].dt.weekday >= 5)\n",
    ")\n",
    "after_hours_edges = set([\n",
    "    (row['source_user'], row['target_resource'] + offset)\n",
    "    for _, row in edges_df[edges_df['is_after_hours']].iterrows()\n",
    "])\n"
   ],
   "id": "8fb4f83f6dcb5019",
   "outputs": [],
   "execution_count": 409
  },
  {
   "metadata": {
    "ExecuteTime": {
     "end_time": "2025-05-20T21:26:06.082546Z",
     "start_time": "2025-05-20T21:26:06.078484Z"
    }
   },
   "cell_type": "code",
   "source": [
    "from sklearn.preprocessing import LabelEncoder\n",
    "import torch\n",
    "\n",
    "#IN_CHANNELS_MODEL = ['role_encoded', 'login_count', 'access_level', 'session_time', 'days_since_login']\n",
    "IN_CHANNELS_MODEL = ['role_encoded', 'access_level']\n",
    "#ADD_FEATURES = ['resource_type_encoded', 'importance', 'access_level']\n",
    "ADD_FEATURES = ['resource_type_encoded', 'importance']\n",
    "\n",
    "# Кодирование признаков узлов\n",
    "role_encoder = LabelEncoder()\n",
    "nodes_df['role_encoded'] = role_encoder.fit_transform(nodes_df['role'])\n",
    "# Признаки Время последнего входа → дни\n",
    "nodes_df['last_login_time'] = pd.to_datetime(nodes_df['last_login_time'])\n",
    "ref_date = pd.Timestamp(\"2025-05-18\")\n",
    "nodes_df['days_since_login'] = (ref_date - nodes_df['last_login_time']).dt.days\n",
    "# Признаки пользователей\n",
    "user_features = nodes_df[IN_CHANNELS_MODEL].values"
   ],
   "id": "593bb98e98ad39e6",
   "outputs": [],
   "execution_count": 410
  },
  {
   "metadata": {
    "ExecuteTime": {
     "end_time": "2025-05-20T21:26:06.149813Z",
     "start_time": "2025-05-20T21:26:06.146811Z"
    }
   },
   "cell_type": "code",
   "source": [
    "# Кодирование признаков узлов (ресурсы)\n",
    "resource_encoder = LabelEncoder()\n",
    "# Обработка ресурсов\n",
    "resources_df['resource_type_encoded'] = resource_encoder.fit_transform(resources_df['resource_type'])\n",
    "# Реальные признаки ресурсов\n",
    "base_resource_features = resources_df[ADD_FEATURES].values\n",
    "# Дополняем признаки ресурсов двумя нулями (чтобы было 6 признаков, как у пользователей)\n",
    "#resource_features_padded = np.hstack([base_resource_features, np.zeros((base_resource_features.shape[0], 3))])\n",
    "resource_features_padded = np.hstack([base_resource_features, np.zeros((base_resource_features.shape[0], user_features.shape[1]-base_resource_features.shape[1]))])\n",
    "# Объединяем признаки пользователей и ресурсов\n",
    "x_combined = np.vstack([user_features, resource_features_padded])"
   ],
   "id": "5629401bb920142d",
   "outputs": [],
   "execution_count": 411
  },
  {
   "metadata": {
    "ExecuteTime": {
     "end_time": "2025-05-20T21:26:06.241488Z",
     "start_time": "2025-05-20T21:26:06.238321Z"
    }
   },
   "cell_type": "code",
   "source": [
    "# Cоздается тензор (многомерный массив) из данных x_combined\n",
    "# Этот тензор x будет использоваться как входные данные для GCN (Graph Convolutional Network) части модели\n",
    "x = torch.tensor(x_combined, dtype=torch.float)"
   ],
   "id": "c8df744f2a100f69",
   "outputs": [],
   "execution_count": 412
  },
  {
   "metadata": {
    "ExecuteTime": {
     "end_time": "2025-05-20T21:26:06.312957Z",
     "start_time": "2025-05-20T21:26:06.310640Z"
    }
   },
   "cell_type": "code",
   "source": [
    "# Переменная offset будет использоваться для корректной индексации узлов-ресурсов\n",
    "#offset = len(user_features)\n",
    "# Извлекаем столбец source_user из DataFrame edges_df (источники рёбер - пользователи), преобразуем значения в целые числа и получает NumPy массив\n",
    "sources = edges_df['source_user'].astype(int).values\n",
    "# Извлекаем столбец target_resource (цели рёбер - ресурсы), преобразуем в целые числа и получает NumPy массив\n",
    "targets = edges_df['target_resource'].astype(int).values + offset\n",
    "# Объединяем в edge_index [2, num_edges]\n",
    "edge_index_np = np.vstack([sources, targets])\n",
    "edge_index = torch.tensor(edge_index_np, dtype=torch.long)"
   ],
   "id": "7051dcd37c3496a9",
   "outputs": [],
   "execution_count": 413
  },
  {
   "metadata": {
    "ExecuteTime": {
     "end_time": "2025-05-20T21:26:06.380230Z",
     "start_time": "2025-05-20T21:26:06.378136Z"
    }
   },
   "cell_type": "code",
   "source": "y = torch.tensor(nodes_df['role_encoded'].values, dtype=torch.long)",
   "id": "ae7a68fff67e334d",
   "outputs": [],
   "execution_count": 414
  },
  {
   "metadata": {
    "ExecuteTime": {
     "end_time": "2025-05-20T21:26:06.447181Z",
     "start_time": "2025-05-20T21:26:06.445521Z"
    }
   },
   "cell_type": "code",
   "source": [
    "from torch_geometric.data import Data\n",
    "\n",
    "data = Data(x=x, edge_index=edge_index, y=y)"
   ],
   "id": "96e994a5838fcea5",
   "outputs": [],
   "execution_count": 415
  },
  {
   "metadata": {
    "ExecuteTime": {
     "end_time": "2025-05-20T21:26:06.513798Z",
     "start_time": "2025-05-20T21:26:06.511710Z"
    }
   },
   "cell_type": "code",
   "source": [
    "num_users = y.shape[0]\n",
    "# Обучающая маска — используем только узлы-пользователи.\n",
    "# Только пользователи имеют известные метки (y).\n",
    "# Ресурсы — это объекты взаимодействия, и они участвуют в обучении опосредованно через связи (рёбра), но не обучаются напрямую как целевые точки.\n",
    "data.train_mask = torch.zeros(data.num_nodes, dtype=torch.bool)\n",
    "data.train_mask[:num_users] = True"
   ],
   "id": "d7ca5ffc7764717b",
   "outputs": [],
   "execution_count": 416
  },
  {
   "metadata": {
    "ExecuteTime": {
     "end_time": "2025-05-20T21:26:06.590443Z",
     "start_time": "2025-05-20T21:26:06.586244Z"
    }
   },
   "cell_type": "code",
   "source": [
    "# Добавим фиктивные метки для ресурсов\n",
    "num_resources = resource_features_padded.shape[0]\n",
    "y_full = np.concatenate([y, -1 * np.ones(num_resources)])  # -1 — метка для нерелевантных узлов\n",
    "\n",
    "# Сконвертируем\n",
    "data.y = torch.tensor(y_full, dtype=torch.long)"
   ],
   "id": "9977c99bcae15ae4",
   "outputs": [],
   "execution_count": 417
  },
  {
   "metadata": {},
   "cell_type": "markdown",
   "source": "## Загрузка и подготовка тестовых данных GCN",
   "id": "f55f17597f003886"
  },
  {
   "metadata": {
    "ExecuteTime": {
     "end_time": "2025-05-20T21:26:06.659402Z",
     "start_time": "2025-05-20T21:26:06.650681Z"
    }
   },
   "cell_type": "code",
   "source": [
    "# === Загрузка тестовых данных ===\n",
    "nodes_test = pd.read_csv(\"data/nodes_test.csv\")\n",
    "edges_test = pd.read_csv(\"data/edges_test.csv\")\n",
    "resources_test = pd.read_csv(\"data/resources_test.csv\")\n",
    "\n",
    "edges_test['timestamp'] = pd.to_datetime(edges_test['timestamp'], errors='coerce')\n",
    "# Кодирование признаков узлов\n",
    "nodes_test['role_encoded'] = role_encoder.transform(nodes_test['role'])\n",
    "# Признаки Время последнего входа → дни\n",
    "nodes_test['last_login_time'] = pd.to_datetime(nodes_test['last_login_time'])\n",
    "nodes_test['days_since_login'] = (ref_date - nodes_test['last_login_time']).dt.days\n",
    "# Признаки пользователей\n",
    "#x_test_users = nodes_test[['role_encoded', 'login_count', 'access_level', 'session_time', 'var_activity', 'days_since_login']].to_numpy()\n",
    "x_test_users = nodes_test[IN_CHANNELS_MODEL].to_numpy()\n",
    "# Обработка ресурсов ---\n",
    "resources_test['resource_type_encoded'] = resource_encoder.transform(resources_test['resource_type'])\n",
    "# Реальные признаки ресурсов\n",
    "x_test_resources = resources_test[ADD_FEATURES].to_numpy()\n",
    "# Дополняем признаки ресурсов двумя нулями (чтобы было 6 признаков, как у пользователей)\n",
    "x_test_resources_padded = np.hstack([x_test_resources, np.zeros((x_test_resources.shape[0], x_test_users.shape[1] - x_test_resources.shape[1]))])\n",
    "\n",
    "#num_users_test = x_test_users.shape[0]\n",
    "#num_resources_test = x_test_resources.shape[0]\n",
    "#x_test_resources_padded = np.zeros((num_resources_test, x_test_users.shape[1]))\n",
    "\n",
    "# Объединяем признаки пользователей и ресурсов\n",
    "x_test_combined = np.vstack([x_test_users, x_test_resources_padded])\n",
    "num_test_users = x_test_users.shape[0]\n",
    "sources_test = edges_test['source_user'].astype(int).values\n",
    "targets_test = edges_test['target_resource'].astype(int).values + offset\n",
    "edge_index_test_np = np.vstack([sources_test, targets_test])\n",
    "edge_index_test = torch.tensor(edge_index_test_np, dtype=torch.long)\n",
    "\n",
    "test_data = Data(x=torch.tensor(x_test_combined, dtype=torch.float), edge_index=edge_index_test)"
   ],
   "id": "96d9934f1da9e0b2",
   "outputs": [],
   "execution_count": 418
  },
  {
   "metadata": {},
   "cell_type": "markdown",
   "source": "## Подготовка данных для модели LSTM",
   "id": "872ab4b50607ea6a"
  },
  {
   "metadata": {
    "ExecuteTime": {
     "end_time": "2025-05-20T21:26:06.738455Z",
     "start_time": "2025-05-20T21:26:06.719065Z"
    }
   },
   "cell_type": "code",
   "source": [
    "# === LSTM часть: последовательности действий ===\n",
    "edges_df = edges_df.dropna(subset=['event_type'])\n",
    "edges_df['event_type_id'] = LabelEncoder().fit_transform(edges_df['event_type'])\n",
    "edges_df['hour'] = edges_df['timestamp'].dt.hour\n",
    "edges_df['dayofweek'] = edges_df['timestamp'].dt.dayofweek\n",
    "\n",
    "features = ['hour', 'dayofweek', 'event_type_id', 'weight']\n",
    "sequences = []\n",
    "user_ids = sorted(edges_df['source_user'].unique())\n",
    "\n",
    "for user_id in user_ids:\n",
    "    user_seq = edges_df[edges_df['source_user'] == user_id].sort_values('timestamp')[features].values\n",
    "    sequences.append(user_seq)\n",
    "\n",
    "max_len = max(len(seq) for seq in sequences)\n",
    "num_features = len(features)\n",
    "padded = np.zeros((len(sequences), max_len, num_features))\n",
    "for i, seq in enumerate(sequences):\n",
    "    padded[i, :len(seq), :] = seq\n",
    "\n",
    "lstm_input_tensor = torch.tensor(padded, dtype=torch.float)"
   ],
   "id": "58fde6c6164b9863",
   "outputs": [],
   "execution_count": 419
  },
  {
   "metadata": {
    "ExecuteTime": {
     "end_time": "2025-05-20T21:26:06.799303Z",
     "start_time": "2025-05-20T21:26:06.794658Z"
    }
   },
   "cell_type": "code",
   "source": "lstm_input_tensor",
   "id": "7cef8f816603a8a0",
   "outputs": [
    {
     "data": {
      "text/plain": [
       "tensor([[[12.0000,  2.0000,  0.0000,  0.7247],\n",
       "         [12.0000,  0.0000,  2.0000,  0.7197],\n",
       "         [12.0000,  3.0000,  1.0000,  0.7318],\n",
       "         [12.0000,  1.0000,  2.0000,  0.9497],\n",
       "         [ 0.0000,  0.0000,  0.0000,  0.0000],\n",
       "         [ 0.0000,  0.0000,  0.0000,  0.0000],\n",
       "         [ 0.0000,  0.0000,  0.0000,  0.0000],\n",
       "         [ 0.0000,  0.0000,  0.0000,  0.0000],\n",
       "         [ 0.0000,  0.0000,  0.0000,  0.0000]],\n",
       "\n",
       "        [[14.0000,  4.0000,  2.0000,  0.5116],\n",
       "         [14.0000,  0.0000,  1.0000,  0.9335],\n",
       "         [14.0000,  1.0000,  0.0000,  0.6225],\n",
       "         [14.0000,  0.0000,  1.0000,  0.5443],\n",
       "         [14.0000,  0.0000,  2.0000,  0.5342],\n",
       "         [14.0000,  3.0000,  1.0000,  0.9405],\n",
       "         [14.0000,  2.0000,  1.0000,  0.9735],\n",
       "         [ 0.0000,  0.0000,  0.0000,  0.0000],\n",
       "         [ 0.0000,  0.0000,  0.0000,  0.0000]],\n",
       "\n",
       "        [[15.0000,  0.0000,  2.0000,  0.4614],\n",
       "         [15.0000,  3.0000,  2.0000,  0.2665],\n",
       "         [18.0000,  0.0000,  2.0000,  0.7581],\n",
       "         [19.0000,  4.0000,  2.0000,  0.5275],\n",
       "         [15.0000,  0.0000,  2.0000,  0.8604],\n",
       "         [ 0.0000,  0.0000,  0.0000,  0.0000],\n",
       "         [ 0.0000,  0.0000,  0.0000,  0.0000],\n",
       "         [ 0.0000,  0.0000,  0.0000,  0.0000],\n",
       "         [ 0.0000,  0.0000,  0.0000,  0.0000]],\n",
       "\n",
       "        [[15.0000,  3.0000,  1.0000,  0.3107],\n",
       "         [14.0000,  3.0000,  0.0000,  0.9719],\n",
       "         [18.0000,  4.0000,  0.0000,  0.6091],\n",
       "         [16.0000,  1.0000,  2.0000,  0.4138],\n",
       "         [18.0000,  0.0000,  0.0000,  0.2274],\n",
       "         [17.0000,  3.0000,  0.0000,  0.5543],\n",
       "         [19.0000,  0.0000,  0.0000,  0.4321],\n",
       "         [ 9.0000,  4.0000,  2.0000,  0.8121],\n",
       "         [10.0000,  4.0000,  2.0000,  0.6146]],\n",
       "\n",
       "        [[16.0000,  0.0000,  1.0000,  0.1681],\n",
       "         [17.0000,  3.0000,  2.0000,  0.6644],\n",
       "         [17.0000,  0.0000,  1.0000,  0.4690],\n",
       "         [15.0000,  3.0000,  1.0000,  0.3542],\n",
       "         [14.0000,  4.0000,  2.0000,  0.1096],\n",
       "         [19.0000,  0.0000,  0.0000,  0.6068],\n",
       "         [ 0.0000,  0.0000,  0.0000,  0.0000],\n",
       "         [ 0.0000,  0.0000,  0.0000,  0.0000],\n",
       "         [ 0.0000,  0.0000,  0.0000,  0.0000]],\n",
       "\n",
       "        [[ 2.0000,  1.0000,  2.0000,  0.7698],\n",
       "         [15.0000,  0.0000,  2.0000,  0.6488],\n",
       "         [ 0.0000,  0.0000,  0.0000,  0.0000],\n",
       "         [ 0.0000,  0.0000,  0.0000,  0.0000],\n",
       "         [ 0.0000,  0.0000,  0.0000,  0.0000],\n",
       "         [ 0.0000,  0.0000,  0.0000,  0.0000],\n",
       "         [ 0.0000,  0.0000,  0.0000,  0.0000],\n",
       "         [ 0.0000,  0.0000,  0.0000,  0.0000],\n",
       "         [ 0.0000,  0.0000,  0.0000,  0.0000]],\n",
       "\n",
       "        [[15.0000,  2.0000,  0.0000,  0.5128],\n",
       "         [12.0000,  0.0000,  1.0000,  0.8945],\n",
       "         [15.0000,  3.0000,  1.0000,  0.2478],\n",
       "         [15.0000,  6.0000,  2.0000,  0.2515],\n",
       "         [ 0.0000,  0.0000,  0.0000,  0.0000],\n",
       "         [ 0.0000,  0.0000,  0.0000,  0.0000],\n",
       "         [ 0.0000,  0.0000,  0.0000,  0.0000],\n",
       "         [ 0.0000,  0.0000,  0.0000,  0.0000],\n",
       "         [ 0.0000,  0.0000,  0.0000,  0.0000]],\n",
       "\n",
       "        [[18.0000,  4.0000,  0.0000,  0.9009],\n",
       "         [17.0000,  4.0000,  2.0000,  0.8686],\n",
       "         [15.0000,  0.0000,  0.0000,  0.6116],\n",
       "         [12.0000,  4.0000,  1.0000,  0.7430],\n",
       "         [15.0000,  0.0000,  1.0000,  0.7594],\n",
       "         [ 0.0000,  0.0000,  0.0000,  0.0000],\n",
       "         [ 0.0000,  0.0000,  0.0000,  0.0000],\n",
       "         [ 0.0000,  0.0000,  0.0000,  0.0000],\n",
       "         [ 0.0000,  0.0000,  0.0000,  0.0000]],\n",
       "\n",
       "        [[15.0000,  6.0000,  2.0000,  0.2182],\n",
       "         [12.0000,  4.0000,  2.0000,  0.6230],\n",
       "         [ 0.0000,  0.0000,  0.0000,  0.0000],\n",
       "         [ 0.0000,  0.0000,  0.0000,  0.0000],\n",
       "         [ 0.0000,  0.0000,  0.0000,  0.0000],\n",
       "         [ 0.0000,  0.0000,  0.0000,  0.0000],\n",
       "         [ 0.0000,  0.0000,  0.0000,  0.0000],\n",
       "         [ 0.0000,  0.0000,  0.0000,  0.0000],\n",
       "         [ 0.0000,  0.0000,  0.0000,  0.0000]],\n",
       "\n",
       "        [[15.0000,  3.0000,  2.0000,  0.1669],\n",
       "         [16.0000,  3.0000,  2.0000,  0.7517],\n",
       "         [17.0000,  2.0000,  0.0000,  0.5328],\n",
       "         [ 9.0000,  1.0000,  2.0000,  0.1755],\n",
       "         [15.0000,  0.0000,  0.0000,  0.3750],\n",
       "         [14.0000,  3.0000,  2.0000,  0.8188],\n",
       "         [15.0000,  4.0000,  1.0000,  0.1916],\n",
       "         [15.0000,  4.0000,  2.0000,  0.4365],\n",
       "         [ 0.0000,  0.0000,  0.0000,  0.0000]],\n",
       "\n",
       "        [[13.0000,  2.0000,  1.0000,  0.1829],\n",
       "         [15.0000,  6.0000,  2.0000,  0.4573],\n",
       "         [12.0000,  0.0000,  1.0000,  0.9277],\n",
       "         [15.0000,  2.0000,  1.0000,  0.1192],\n",
       "         [14.0000,  3.0000,  1.0000,  0.8399],\n",
       "         [15.0000,  2.0000,  1.0000,  0.6047],\n",
       "         [ 0.0000,  0.0000,  0.0000,  0.0000],\n",
       "         [ 0.0000,  0.0000,  0.0000,  0.0000],\n",
       "         [ 0.0000,  0.0000,  0.0000,  0.0000]],\n",
       "\n",
       "        [[15.0000,  3.0000,  2.0000,  0.6132],\n",
       "         [15.0000,  3.0000,  0.0000,  0.8682],\n",
       "         [17.0000,  1.0000,  1.0000,  0.9216],\n",
       "         [ 0.0000,  0.0000,  0.0000,  0.0000],\n",
       "         [ 0.0000,  0.0000,  0.0000,  0.0000],\n",
       "         [ 0.0000,  0.0000,  0.0000,  0.0000],\n",
       "         [ 0.0000,  0.0000,  0.0000,  0.0000],\n",
       "         [ 0.0000,  0.0000,  0.0000,  0.0000],\n",
       "         [ 0.0000,  0.0000,  0.0000,  0.0000]],\n",
       "\n",
       "        [[15.0000,  1.0000,  2.0000,  0.3045],\n",
       "         [    nan,     nan,  0.0000,  0.4172],\n",
       "         [ 0.0000,  0.0000,  0.0000,  0.0000],\n",
       "         [ 0.0000,  0.0000,  0.0000,  0.0000],\n",
       "         [ 0.0000,  0.0000,  0.0000,  0.0000],\n",
       "         [ 0.0000,  0.0000,  0.0000,  0.0000],\n",
       "         [ 0.0000,  0.0000,  0.0000,  0.0000],\n",
       "         [ 0.0000,  0.0000,  0.0000,  0.0000],\n",
       "         [ 0.0000,  0.0000,  0.0000,  0.0000]],\n",
       "\n",
       "        [[15.0000,  2.0000,  0.0000,  0.7770],\n",
       "         [15.0000,  3.0000,  1.0000,  0.7841],\n",
       "         [15.0000,  3.0000,  1.0000,  0.9802],\n",
       "         [ 2.0000,  1.0000,  2.0000,  0.3838],\n",
       "         [ 0.0000,  0.0000,  0.0000,  0.0000],\n",
       "         [ 0.0000,  0.0000,  0.0000,  0.0000],\n",
       "         [ 0.0000,  0.0000,  0.0000,  0.0000],\n",
       "         [ 0.0000,  0.0000,  0.0000,  0.0000],\n",
       "         [ 0.0000,  0.0000,  0.0000,  0.0000]],\n",
       "\n",
       "        [[15.0000,  0.0000,  0.0000,  0.6205],\n",
       "         [18.0000,  4.0000,  2.0000,  0.1497],\n",
       "         [20.0000,  1.0000,  2.0000,  0.2245],\n",
       "         [15.0000,  4.0000,  2.0000,  0.8910],\n",
       "         [15.0000,  1.0000,  1.0000,  0.2694],\n",
       "         [ 0.0000,  0.0000,  0.0000,  0.0000],\n",
       "         [ 0.0000,  0.0000,  0.0000,  0.0000],\n",
       "         [ 0.0000,  0.0000,  0.0000,  0.0000],\n",
       "         [ 0.0000,  0.0000,  0.0000,  0.0000]],\n",
       "\n",
       "        [[15.0000,  0.0000,  1.0000,  0.8460],\n",
       "         [15.0000,  0.0000,  2.0000,  0.4985],\n",
       "         [17.0000,  4.0000,  1.0000,  0.8993],\n",
       "         [15.0000,  2.0000,  0.0000,  0.2573],\n",
       "         [16.0000,  4.0000,  1.0000,  0.2187],\n",
       "         [ 0.0000,  0.0000,  0.0000,  0.0000],\n",
       "         [ 0.0000,  0.0000,  0.0000,  0.0000],\n",
       "         [ 0.0000,  0.0000,  0.0000,  0.0000],\n",
       "         [ 0.0000,  0.0000,  0.0000,  0.0000]],\n",
       "\n",
       "        [[16.0000,  3.0000,  1.0000,  0.8413],\n",
       "         [17.0000,  0.0000,  0.0000,  0.3120],\n",
       "         [15.0000,  2.0000,  0.0000,  0.8784],\n",
       "         [12.0000,  4.0000,  1.0000,  0.3441],\n",
       "         [14.0000,  4.0000,  2.0000,  0.4900],\n",
       "         [15.0000,  3.0000,  1.0000,  0.3817],\n",
       "         [18.0000,  1.0000,  0.0000,  0.5781],\n",
       "         [ 0.0000,  0.0000,  0.0000,  0.0000],\n",
       "         [ 0.0000,  0.0000,  0.0000,  0.0000]],\n",
       "\n",
       "        [[12.0000,  0.0000,  1.0000,  0.3210],\n",
       "         [13.0000,  0.0000,  1.0000,  0.6112],\n",
       "         [15.0000,  0.0000,  1.0000,  0.2761],\n",
       "         [15.0000,  0.0000,  2.0000,  0.9027],\n",
       "         [15.0000,  2.0000,  2.0000,  0.3263],\n",
       "         [15.0000,  2.0000,  1.0000,  0.4194],\n",
       "         [15.0000,  0.0000,  1.0000,  0.2631],\n",
       "         [ 0.0000,  0.0000,  0.0000,  0.0000],\n",
       "         [ 0.0000,  0.0000,  0.0000,  0.0000]],\n",
       "\n",
       "        [[ 2.0000,  5.0000,  1.0000,  0.4799],\n",
       "         [ 2.0000,  5.0000,  1.0000,  0.5435],\n",
       "         [15.0000,  5.0000,  2.0000,  0.3201],\n",
       "         [ 2.0000,  6.0000,  2.0000,  0.9925],\n",
       "         [ 2.0000,  6.0000,  0.0000,  0.6916],\n",
       "         [15.0000,  6.0000,  1.0000,  0.2785],\n",
       "         [ 0.0000,  0.0000,  0.0000,  0.0000],\n",
       "         [ 0.0000,  0.0000,  0.0000,  0.0000],\n",
       "         [ 0.0000,  0.0000,  0.0000,  0.0000]],\n",
       "\n",
       "        [[15.0000,  3.0000,  0.0000,  0.9716],\n",
       "         [15.0000,  0.0000,  0.0000,  0.3581],\n",
       "         [15.0000,  4.0000,  2.0000,  0.7866],\n",
       "         [ 0.0000,  0.0000,  0.0000,  0.0000],\n",
       "         [ 0.0000,  0.0000,  0.0000,  0.0000],\n",
       "         [ 0.0000,  0.0000,  0.0000,  0.0000],\n",
       "         [ 0.0000,  0.0000,  0.0000,  0.0000],\n",
       "         [ 0.0000,  0.0000,  0.0000,  0.0000],\n",
       "         [ 0.0000,  0.0000,  0.0000,  0.0000]]])"
      ]
     },
     "execution_count": 420,
     "metadata": {},
     "output_type": "execute_result"
    }
   ],
   "execution_count": 420
  },
  {
   "metadata": {},
   "cell_type": "markdown",
   "source": "## Модель GCN",
   "id": "85a14c0e4325190c"
  },
  {
   "metadata": {
    "ExecuteTime": {
     "end_time": "2025-05-20T21:26:06.871637Z",
     "start_time": "2025-05-20T21:26:06.869107Z"
    }
   },
   "cell_type": "code",
   "source": [
    "import torch.nn.functional as F\n",
    "from torch_geometric.nn import GCNConv\n",
    "\n",
    "# --- Модель GCN ---\n",
    "class GCN(torch.nn.Module):\n",
    "    def __init__(self, in_channels, hidden_channels, out_channels):\n",
    "        super().__init__()\n",
    "        self.conv1 = GCNConv(in_channels, hidden_channels)\n",
    "        self.conv2 = GCNConv(hidden_channels, out_channels)\n",
    "\n",
    "    def forward(self, data):\n",
    "        x, edge_index = data.x, data.edge_index\n",
    "        x = F.relu(self.conv1(x, edge_index))\n",
    "        return self.conv2(x, edge_index)\n"
   ],
   "id": "17e1998519aefa79",
   "outputs": [],
   "execution_count": 421
  },
  {
   "metadata": {},
   "cell_type": "markdown",
   "source": "## Гибридная модель",
   "id": "bd7966b9f8de60bb"
  },
  {
   "metadata": {
    "ExecuteTime": {
     "end_time": "2025-05-20T21:26:06.954625Z",
     "start_time": "2025-05-20T21:26:06.947940Z"
    }
   },
   "cell_type": "code",
   "source": [
    "import torch.nn as nn\n",
    "\n",
    "# === Гибридная модель ===\n",
    "class HybridModel(nn.Module):\n",
    "    def __init__(self, num_node_features, num_edge_features, hidden_dim):\n",
    "        super().__init__()\n",
    "        # GCN часть\n",
    "        self.gcn1 = GCNConv(num_node_features, hidden_dim)\n",
    "        self.gcn2 = GCNConv(hidden_dim, hidden_dim)\n",
    "\n",
    "        # LSTM для обработки временных меток\n",
    "        self.lstm = nn.LSTM(input_size=num_edge_features+1,  # +1 потому что добавлен один признак ресурса\n",
    "                           hidden_size=hidden_dim,\n",
    "                           batch_first=True)\n",
    "        # Классификатор\n",
    "        self.fc = nn.Linear(hidden_dim * 2, 2)  # Умножаем на 2, так как объединяем GCN и LSTM выходы\n",
    "\n",
    "    def forward(self, data):\n",
    "        # Обработка графа\n",
    "        x = F.relu(self.gcn1(data.x, data.edge_index))\n",
    "        x_gcn = self.gcn2(x, data.edge_index)  # [num_nodes, hidden_dim]\n",
    "\n",
    "        # Обработка временных признаков\n",
    "        edge_attr = data.edge_attr.unsqueeze(0)  # [1, num_edges, num_edge_features]\n",
    "        _, (h_n, _) = self.lstm(edge_attr)\n",
    "        lstm_out = h_n.squeeze(0)  # [1, hidden_dim]\n",
    "\n",
    "        # Применяем GCN признаки к каждому узлу\n",
    "        gcn_out = x_gcn  # [num_nodes, hidden_dim]\n",
    "\n",
    "        # Повторяем LSTM выход для каждого узла\n",
    "        lstm_repeated = lstm_out.repeat(gcn_out.size(0), 1)  # [num_nodes, hidden_dim]\n",
    "\n",
    "        # Объединение признаков\n",
    "        combined = torch.cat([gcn_out, lstm_repeated], dim=1)  # [num_nodes, hidden_dim * 2]\n",
    "\n",
    "        return F.log_softmax(self.fc(combined), dim=1)"
   ],
   "id": "25d0f9185d4d25c3",
   "outputs": [],
   "execution_count": 422
  },
  {
   "metadata": {},
   "cell_type": "markdown",
   "source": "## Обучение",
   "id": "71810d4395b46377"
  },
  {
   "metadata": {
    "ExecuteTime": {
     "end_time": "2025-05-20T21:26:07.031919Z",
     "start_time": "2025-05-20T21:26:07.027408Z"
    }
   },
   "cell_type": "code",
   "source": [
    "# Обучение\n",
    "class Trainer:\n",
    "    def __init__(self, model, data, optimizer, criterion):\n",
    "        self.model = model\n",
    "        self.data = data\n",
    "        self.optimizer = optimizer\n",
    "        self.criterion = criterion\n",
    "\n",
    "    def train(self, lstm_input_tr=None):\n",
    "        self.model.train()\n",
    "        self.optimizer.zero_grad()\n",
    "\n",
    "        if lstm_input_tr is not None:\n",
    "            out = self.model(self.data, lstm_input_tr)  # Для GCN+LSTM\n",
    "        else:\n",
    "            out = self.model(self.data)  # Только GCN\n",
    "\n",
    "        loss = self.criterion(out[self.data.train_mask], self.data.y[self.data.train_mask])\n",
    "        loss.backward()\n",
    "        self.optimizer.step()\n",
    "        return loss.item()\n"
   ],
   "id": "1de689f549609acf",
   "outputs": [],
   "execution_count": 423
  },
  {
   "metadata": {},
   "cell_type": "markdown",
   "source": "## Предсказание на новых данных",
   "id": "ce250272f9316e32"
  },
  {
   "metadata": {
    "ExecuteTime": {
     "end_time": "2025-05-20T21:26:07.118438Z",
     "start_time": "2025-05-20T21:26:07.112260Z"
    }
   },
   "cell_type": "code",
   "source": [
    "# === Предсказание на новых данных ===\n",
    "class Tester:\n",
    "    def __init__(self, model, test_data, y, num_test_users):\n",
    "        \"\"\"\n",
    "        model: обученная модель (GCN или GCN+LSTM)\n",
    "        test_data: данные в формате PyTorch Geometric Data\n",
    "        y: истинные метки классов (тензор)\n",
    "        num_test_users: количество узлов-пользователей в тестовой выборке\n",
    "        \"\"\"\n",
    "        self.model = model\n",
    "        self.test_data = test_data\n",
    "        self.y = y\n",
    "        self.num_test_users = num_test_users\n",
    "\n",
    "    def test(self, lstm_input_tr=None):\n",
    "        self.model.eval()\n",
    "\n",
    "        with torch.no_grad():\n",
    "            if lstm_input_tr is not None:\n",
    "                out = self.model(self.test_data, lstm_input_tr)\n",
    "            else:\n",
    "                out = self.model(self.test_data)\n",
    "\n",
    "            preds = out.argmax(dim=1)\n",
    "            test_preds = preds[:self.num_test_users]\n",
    "            correct = (test_preds == self.y[:self.num_test_users]).sum()\n",
    "            acc = int(correct) / int(len(test_preds))\n",
    "\n",
    "        return acc\n"
   ],
   "id": "757ac1f97883d94c",
   "outputs": [],
   "execution_count": 424
  },
  {
   "metadata": {
    "ExecuteTime": {
     "end_time": "2025-05-20T21:26:07.197497Z",
     "start_time": "2025-05-20T21:26:07.192304Z"
    }
   },
   "cell_type": "code",
   "source": [
    "GCN_HIDDEN_CHANNELS = 40\n",
    "LSTM_HIDDEN_CHANNELS = 40\n",
    "MAX_EPOCHS = 101\n",
    "GCN_IN_CHANNELS = x.shape[1]\n",
    "LSTM_IN_CHANNELS = 4\n",
    "\n",
    "\n",
    "# Инициализация и обучение\n",
    "model = GCN(in_channels=GCN_IN_CHANNELS, hidden_channels=GCN_HIDDEN_CHANNELS, out_channels=len(torch.unique(y)))\n",
    "optimizer = torch.optim.Adam(model.parameters(), lr=0.01)\n",
    "criterion = torch.nn.CrossEntropyLoss()"
   ],
   "id": "435a69811517611c",
   "outputs": [],
   "execution_count": 425
  },
  {
   "metadata": {
    "ExecuteTime": {
     "end_time": "2025-05-20T21:26:07.302060Z",
     "start_time": "2025-05-20T21:26:07.298810Z"
    }
   },
   "cell_type": "code",
   "source": "trainer = Trainer(model, data, optimizer, criterion)",
   "id": "96c26a42504146ff",
   "outputs": [],
   "execution_count": 426
  },
  {
   "metadata": {
    "ExecuteTime": {
     "end_time": "2025-05-20T21:26:07.397407Z",
     "start_time": "2025-05-20T21:26:07.393810Z"
    }
   },
   "cell_type": "code",
   "source": "tester = Tester(model, test_data, y, num_test_users)",
   "id": "a70192d4bff4b53c",
   "outputs": [],
   "execution_count": 427
  },
  {
   "metadata": {
    "ExecuteTime": {
     "end_time": "2025-05-20T21:26:07.530667Z",
     "start_time": "2025-05-20T21:26:07.484909Z"
    }
   },
   "cell_type": "code",
   "source": [
    "losses_gcn = []\n",
    "losses_gcn_lstm = []\n",
    "accuracies_gcn = []\n",
    "accuracies_gcn_lstm = []\n",
    "for epoch in range(1, MAX_EPOCHS):\n",
    "\n",
    "    loss_gcn = trainer.train()\n",
    "    #loss_gcn_lstm = trainer.train(lstm_input_tensor)\n",
    "    losses_gcn.append(loss_gcn)\n",
    "    #losses_gcn_lstm.append(loss_gcn_lstm)\n",
    "\n",
    "    acc_gcn = tester.test()\n",
    "    accuracies_gcn.append(acc_gcn)\n",
    "    #acc_gcn_lstm = tester.test(lstm_input_tensor)\n",
    "    #accuracies_gcn_lstm.append(acc_gcn_lstm)\n",
    "\n",
    "    if epoch % 10 == 0 or epoch == 1:\n",
    "        print(f\"Эпоха {epoch:03d}, Потери: {loss_gcn:.4f}, Тестирование (Точность): {acc_gcn:.4f}\")\n"
   ],
   "id": "8c52e9b81a8e651e",
   "outputs": [
    {
     "ename": "TypeError",
     "evalue": "GCN.forward() takes 2 positional arguments but 3 were given",
     "output_type": "error",
     "traceback": [
      "\u001B[0;31m---------------------------------------------------------------------------\u001B[0m",
      "\u001B[0;31mTypeError\u001B[0m                                 Traceback (most recent call last)",
      "Cell \u001B[0;32mIn[428], line 8\u001B[0m\n\u001B[1;32m      5\u001B[0m \u001B[38;5;28;01mfor\u001B[39;00m epoch \u001B[38;5;129;01min\u001B[39;00m \u001B[38;5;28mrange\u001B[39m(\u001B[38;5;241m1\u001B[39m, MAX_EPOCHS):\n\u001B[1;32m      7\u001B[0m     loss_gcn \u001B[38;5;241m=\u001B[39m trainer\u001B[38;5;241m.\u001B[39mtrain()\n\u001B[0;32m----> 8\u001B[0m     loss_gcn_lstm \u001B[38;5;241m=\u001B[39m trainer\u001B[38;5;241m.\u001B[39mtrain(lstm_input_tensor)\n\u001B[1;32m      9\u001B[0m     losses_gcn\u001B[38;5;241m.\u001B[39mappend(loss_gcn)\n\u001B[1;32m     10\u001B[0m     \u001B[38;5;66;03m#losses_gcn_lstm.append(loss_gcn_lstm)\u001B[39;00m\n",
      "Cell \u001B[0;32mIn[423], line 14\u001B[0m, in \u001B[0;36mTrainer.train\u001B[0;34m(self, lstm_input_tr)\u001B[0m\n\u001B[1;32m     11\u001B[0m \u001B[38;5;28mself\u001B[39m\u001B[38;5;241m.\u001B[39moptimizer\u001B[38;5;241m.\u001B[39mzero_grad()\n\u001B[1;32m     13\u001B[0m \u001B[38;5;28;01mif\u001B[39;00m lstm_input_tr \u001B[38;5;129;01mis\u001B[39;00m \u001B[38;5;129;01mnot\u001B[39;00m \u001B[38;5;28;01mNone\u001B[39;00m:\n\u001B[0;32m---> 14\u001B[0m     out \u001B[38;5;241m=\u001B[39m \u001B[38;5;28mself\u001B[39m\u001B[38;5;241m.\u001B[39mmodel(\u001B[38;5;28mself\u001B[39m\u001B[38;5;241m.\u001B[39mdata, lstm_input_tr)  \u001B[38;5;66;03m# Для GCN+LSTM\u001B[39;00m\n\u001B[1;32m     15\u001B[0m \u001B[38;5;28;01melse\u001B[39;00m:\n\u001B[1;32m     16\u001B[0m     out \u001B[38;5;241m=\u001B[39m \u001B[38;5;28mself\u001B[39m\u001B[38;5;241m.\u001B[39mmodel(\u001B[38;5;28mself\u001B[39m\u001B[38;5;241m.\u001B[39mdata)  \u001B[38;5;66;03m# Только GCN\u001B[39;00m\n",
      "File \u001B[0;32m~/anaconda3/lib/python3.12/site-packages/torch/nn/modules/module.py:1751\u001B[0m, in \u001B[0;36mModule._wrapped_call_impl\u001B[0;34m(self, *args, **kwargs)\u001B[0m\n\u001B[1;32m   1749\u001B[0m     \u001B[38;5;28;01mreturn\u001B[39;00m \u001B[38;5;28mself\u001B[39m\u001B[38;5;241m.\u001B[39m_compiled_call_impl(\u001B[38;5;241m*\u001B[39margs, \u001B[38;5;241m*\u001B[39m\u001B[38;5;241m*\u001B[39mkwargs)  \u001B[38;5;66;03m# type: ignore[misc]\u001B[39;00m\n\u001B[1;32m   1750\u001B[0m \u001B[38;5;28;01melse\u001B[39;00m:\n\u001B[0;32m-> 1751\u001B[0m     \u001B[38;5;28;01mreturn\u001B[39;00m \u001B[38;5;28mself\u001B[39m\u001B[38;5;241m.\u001B[39m_call_impl(\u001B[38;5;241m*\u001B[39margs, \u001B[38;5;241m*\u001B[39m\u001B[38;5;241m*\u001B[39mkwargs)\n",
      "File \u001B[0;32m~/anaconda3/lib/python3.12/site-packages/torch/nn/modules/module.py:1762\u001B[0m, in \u001B[0;36mModule._call_impl\u001B[0;34m(self, *args, **kwargs)\u001B[0m\n\u001B[1;32m   1757\u001B[0m \u001B[38;5;66;03m# If we don't have any hooks, we want to skip the rest of the logic in\u001B[39;00m\n\u001B[1;32m   1758\u001B[0m \u001B[38;5;66;03m# this function, and just call forward.\u001B[39;00m\n\u001B[1;32m   1759\u001B[0m \u001B[38;5;28;01mif\u001B[39;00m \u001B[38;5;129;01mnot\u001B[39;00m (\u001B[38;5;28mself\u001B[39m\u001B[38;5;241m.\u001B[39m_backward_hooks \u001B[38;5;129;01mor\u001B[39;00m \u001B[38;5;28mself\u001B[39m\u001B[38;5;241m.\u001B[39m_backward_pre_hooks \u001B[38;5;129;01mor\u001B[39;00m \u001B[38;5;28mself\u001B[39m\u001B[38;5;241m.\u001B[39m_forward_hooks \u001B[38;5;129;01mor\u001B[39;00m \u001B[38;5;28mself\u001B[39m\u001B[38;5;241m.\u001B[39m_forward_pre_hooks\n\u001B[1;32m   1760\u001B[0m         \u001B[38;5;129;01mor\u001B[39;00m _global_backward_pre_hooks \u001B[38;5;129;01mor\u001B[39;00m _global_backward_hooks\n\u001B[1;32m   1761\u001B[0m         \u001B[38;5;129;01mor\u001B[39;00m _global_forward_hooks \u001B[38;5;129;01mor\u001B[39;00m _global_forward_pre_hooks):\n\u001B[0;32m-> 1762\u001B[0m     \u001B[38;5;28;01mreturn\u001B[39;00m forward_call(\u001B[38;5;241m*\u001B[39margs, \u001B[38;5;241m*\u001B[39m\u001B[38;5;241m*\u001B[39mkwargs)\n\u001B[1;32m   1764\u001B[0m result \u001B[38;5;241m=\u001B[39m \u001B[38;5;28;01mNone\u001B[39;00m\n\u001B[1;32m   1765\u001B[0m called_always_called_hooks \u001B[38;5;241m=\u001B[39m \u001B[38;5;28mset\u001B[39m()\n",
      "\u001B[0;31mTypeError\u001B[0m: GCN.forward() takes 2 positional arguments but 3 were given"
     ]
    }
   ],
   "execution_count": 428
  },
  {
   "metadata": {
    "ExecuteTime": {
     "end_time": "2025-05-20T21:26:07.537432647Z",
     "start_time": "2025-05-20T21:24:48.349003Z"
    }
   },
   "cell_type": "code",
   "source": [
    "#Визуализация обучения\n",
    "import matplotlib.pyplot as plt\n",
    "\n",
    "plt.figure(figsize=(12, 5))\n",
    "\n",
    "plt.subplot(1, 2, 1)\n",
    "plt.plot(losses_gcn, label='Loss')\n",
    "plt.title(\"Потери по эпохам\")\n",
    "plt.xlabel(\"Эпоха\")\n",
    "plt.ylabel(\"Loss\")\n",
    "plt.grid(True)\n",
    "\n",
    "plt.subplot(1, 2, 2)\n",
    "plt.plot(accuracies_gcn, label='Accuracy', color='green')\n",
    "plt.title(\"Точность по эпохам\")\n",
    "plt.xlabel(\"Эпоха\")\n",
    "plt.ylabel(\"Accuracy\")\n",
    "plt.grid(True)\n",
    "\n",
    "plt.tight_layout()\n",
    "plt.show()"
   ],
   "id": "516de564aafed351",
   "outputs": [
    {
     "data": {
      "text/plain": [
       "<Figure size 1200x500 with 2 Axes>"
      ],
      "image/png": "[encoded data removed]"
     },
     "metadata": {},
     "output_type": "display_data"
    }
   ],
   "execution_count": 407
  }
 ],
 "metadata": {
  "kernelspec": {
   "display_name": "Python 3",
   "language": "python",
   "name": "python3"
  },
  "language_info": {
   "codemirror_mode": {
    "name": "ipython",
    "version": 2
   },
   "file_extension": ".py",
   "mimetype": "text/x-python",
   "name": "python",
   "nbconvert_exporter": "python",
   "pygments_lexer": "ipython2",
   "version": "2.7.6"
  }
 },
 "nbformat": 4,
 "nbformat_minor": 5
}
